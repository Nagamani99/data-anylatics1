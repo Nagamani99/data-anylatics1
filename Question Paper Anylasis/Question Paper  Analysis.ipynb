{
 "cells": [
  {
   "cell_type": "markdown",
   "id": "ae42123f",
   "metadata": {},
   "source": [
    "\n",
    "# Analysis on Exam marks"
   ]
  },
  {
   "cell_type": "markdown",
   "id": "83f3b3e9",
   "metadata": {},
   "source": [
    "# Introduction"
   ]
  },
  {
   "cell_type": "markdown",
   "id": "5db21050",
   "metadata": {},
   "source": [
    "The provided dataset, is a structured academic record capturing the Semester 2 Midterm 1 examination scores of students enrolled in Section ALPHA. It contains individual student performance data across six distinct academic subjects."
   ]
  },
  {
   "cell_type": "code",
   "execution_count": 13,
   "id": "e5ebbe97",
   "metadata": {},
   "outputs": [
    {
     "data": {
      "text/html": [
       "<div>\n",
       "<style scoped>\n",
       "    .dataframe tbody tr th:only-of-type {\n",
       "        vertical-align: middle;\n",
       "    }\n",
       "\n",
       "    .dataframe tbody tr th {\n",
       "        vertical-align: top;\n",
       "    }\n",
       "\n",
       "    .dataframe thead th {\n",
       "        text-align: right;\n",
       "    }\n",
       "</style>\n",
       "<table border=\"1\" class=\"dataframe\">\n",
       "  <thead>\n",
       "    <tr style=\"text-align: right;\">\n",
       "      <th></th>\n",
       "      <th>S.NO</th>\n",
       "      <th>SECTION</th>\n",
       "      <th>DV</th>\n",
       "      <th>M-II</th>\n",
       "      <th>PP</th>\n",
       "      <th>BEEE</th>\n",
       "      <th>FL</th>\n",
       "      <th>FIMS</th>\n",
       "    </tr>\n",
       "  </thead>\n",
       "  <tbody>\n",
       "    <tr>\n",
       "      <th>0</th>\n",
       "      <td>1.0</td>\n",
       "      <td>ALPHA</td>\n",
       "      <td>12</td>\n",
       "      <td>0</td>\n",
       "      <td>17</td>\n",
       "      <td>9</td>\n",
       "      <td>19</td>\n",
       "      <td>15</td>\n",
       "    </tr>\n",
       "    <tr>\n",
       "      <th>1</th>\n",
       "      <td>2.0</td>\n",
       "      <td>ALPHA</td>\n",
       "      <td>19</td>\n",
       "      <td>12</td>\n",
       "      <td>16</td>\n",
       "      <td>16</td>\n",
       "      <td>18</td>\n",
       "      <td>3</td>\n",
       "    </tr>\n",
       "    <tr>\n",
       "      <th>2</th>\n",
       "      <td>3.0</td>\n",
       "      <td>ALPHA</td>\n",
       "      <td>18</td>\n",
       "      <td>14</td>\n",
       "      <td>18</td>\n",
       "      <td>18</td>\n",
       "      <td>18</td>\n",
       "      <td>16</td>\n",
       "    </tr>\n",
       "    <tr>\n",
       "      <th>3</th>\n",
       "      <td>4.0</td>\n",
       "      <td>ALPHA</td>\n",
       "      <td>15</td>\n",
       "      <td>9</td>\n",
       "      <td>19</td>\n",
       "      <td>17</td>\n",
       "      <td>19</td>\n",
       "      <td>15</td>\n",
       "    </tr>\n",
       "    <tr>\n",
       "      <th>4</th>\n",
       "      <td>5.0</td>\n",
       "      <td>ALPHA</td>\n",
       "      <td>18</td>\n",
       "      <td>17</td>\n",
       "      <td>19</td>\n",
       "      <td>19</td>\n",
       "      <td>20</td>\n",
       "      <td>18</td>\n",
       "    </tr>\n",
       "    <tr>\n",
       "      <th>...</th>\n",
       "      <td>...</td>\n",
       "      <td>...</td>\n",
       "      <td>...</td>\n",
       "      <td>...</td>\n",
       "      <td>...</td>\n",
       "      <td>...</td>\n",
       "      <td>...</td>\n",
       "      <td>...</td>\n",
       "    </tr>\n",
       "    <tr>\n",
       "      <th>713</th>\n",
       "      <td>NaN</td>\n",
       "      <td>ZETA</td>\n",
       "      <td>19</td>\n",
       "      <td>8</td>\n",
       "      <td>8</td>\n",
       "      <td>19</td>\n",
       "      <td>17</td>\n",
       "      <td>18</td>\n",
       "    </tr>\n",
       "    <tr>\n",
       "      <th>714</th>\n",
       "      <td>NaN</td>\n",
       "      <td>ZETA</td>\n",
       "      <td>12</td>\n",
       "      <td>1</td>\n",
       "      <td>7</td>\n",
       "      <td>10</td>\n",
       "      <td>20</td>\n",
       "      <td>8</td>\n",
       "    </tr>\n",
       "    <tr>\n",
       "      <th>715</th>\n",
       "      <td>NaN</td>\n",
       "      <td>ZETA</td>\n",
       "      <td>17</td>\n",
       "      <td>6</td>\n",
       "      <td>14</td>\n",
       "      <td>14</td>\n",
       "      <td>17</td>\n",
       "      <td>18</td>\n",
       "    </tr>\n",
       "    <tr>\n",
       "      <th>716</th>\n",
       "      <td>NaN</td>\n",
       "      <td>ZETA</td>\n",
       "      <td>12</td>\n",
       "      <td>1</td>\n",
       "      <td>6</td>\n",
       "      <td>7</td>\n",
       "      <td>15</td>\n",
       "      <td>12</td>\n",
       "    </tr>\n",
       "    <tr>\n",
       "      <th>717</th>\n",
       "      <td>NaN</td>\n",
       "      <td>ZETA</td>\n",
       "      <td>19</td>\n",
       "      <td>14</td>\n",
       "      <td>17</td>\n",
       "      <td>16</td>\n",
       "      <td>20</td>\n",
       "      <td>19</td>\n",
       "    </tr>\n",
       "  </tbody>\n",
       "</table>\n",
       "<p>718 rows × 8 columns</p>\n",
       "</div>"
      ],
      "text/plain": [
       "     S.NO SECTION  DV M-II  PP BEEE  FL FIMS\n",
       "0     1.0   ALPHA  12    0  17    9  19   15\n",
       "1     2.0   ALPHA  19   12  16   16  18    3\n",
       "2     3.0   ALPHA  18   14  18   18  18   16\n",
       "3     4.0   ALPHA  15    9  19   17  19   15\n",
       "4     5.0   ALPHA  18   17  19   19  20   18\n",
       "..    ...     ...  ..  ...  ..  ...  ..  ...\n",
       "713   NaN    ZETA  19    8   8   19  17   18\n",
       "714   NaN    ZETA  12    1   7   10  20    8\n",
       "715   NaN    ZETA  17    6  14   14  17   18\n",
       "716   NaN    ZETA  12    1   6    7  15   12\n",
       "717   NaN    ZETA  19   14  17   16  20   19\n",
       "\n",
       "[718 rows x 8 columns]"
      ]
     },
     "execution_count": 13,
     "metadata": {},
     "output_type": "execute_result"
    }
   ],
   "source": [
    "import pandas as pd\n",
    "import matplotlib.pyplot as plt\n",
    "import seaborn as sns\n",
    "df = pd.read_excel(\"MIDMARKS.xlsx\")\n",
    "df"
   ]
  },
  {
   "cell_type": "code",
   "execution_count": 2,
   "id": "b0c81e81",
   "metadata": {},
   "outputs": [
    {
     "name": "stdout",
     "output_type": "stream",
     "text": [
      "<class 'pandas.core.frame.DataFrame'>\n",
      "RangeIndex: 718 entries, 0 to 717\n",
      "Data columns (total 8 columns):\n",
      " #   Column   Non-Null Count  Dtype  \n",
      "---  ------   --------------  -----  \n",
      " 0   S.NO     601 non-null    float64\n",
      " 1   SECTION  691 non-null    object \n",
      " 2   DV       716 non-null    object \n",
      " 3   M-II     716 non-null    object \n",
      " 4   PP       716 non-null    object \n",
      " 5   BEEE     716 non-null    object \n",
      " 6   FL       715 non-null    object \n",
      " 7   FIMS     716 non-null    object \n",
      "dtypes: float64(1), object(7)\n",
      "memory usage: 45.0+ KB\n"
     ]
    }
   ],
   "source": [
    "df.info()"
   ]
  },
  {
   "cell_type": "code",
   "execution_count": 3,
   "id": "ca5b45d2",
   "metadata": {},
   "outputs": [
    {
     "data": {
      "text/html": [
       "<div>\n",
       "<style scoped>\n",
       "    .dataframe tbody tr th:only-of-type {\n",
       "        vertical-align: middle;\n",
       "    }\n",
       "\n",
       "    .dataframe tbody tr th {\n",
       "        vertical-align: top;\n",
       "    }\n",
       "\n",
       "    .dataframe thead th {\n",
       "        text-align: right;\n",
       "    }\n",
       "</style>\n",
       "<table border=\"1\" class=\"dataframe\">\n",
       "  <thead>\n",
       "    <tr style=\"text-align: right;\">\n",
       "      <th></th>\n",
       "      <th>S.NO</th>\n",
       "      <th>SECTION</th>\n",
       "      <th>DV</th>\n",
       "      <th>M-II</th>\n",
       "      <th>PP</th>\n",
       "      <th>BEEE</th>\n",
       "      <th>FL</th>\n",
       "      <th>FIMS</th>\n",
       "    </tr>\n",
       "  </thead>\n",
       "  <tbody>\n",
       "    <tr>\n",
       "      <th>0</th>\n",
       "      <td>1.0</td>\n",
       "      <td>ALPHA</td>\n",
       "      <td>12</td>\n",
       "      <td>0</td>\n",
       "      <td>17</td>\n",
       "      <td>9</td>\n",
       "      <td>19</td>\n",
       "      <td>15</td>\n",
       "    </tr>\n",
       "    <tr>\n",
       "      <th>1</th>\n",
       "      <td>2.0</td>\n",
       "      <td>ALPHA</td>\n",
       "      <td>19</td>\n",
       "      <td>12</td>\n",
       "      <td>16</td>\n",
       "      <td>16</td>\n",
       "      <td>18</td>\n",
       "      <td>3</td>\n",
       "    </tr>\n",
       "    <tr>\n",
       "      <th>2</th>\n",
       "      <td>3.0</td>\n",
       "      <td>ALPHA</td>\n",
       "      <td>18</td>\n",
       "      <td>14</td>\n",
       "      <td>18</td>\n",
       "      <td>18</td>\n",
       "      <td>18</td>\n",
       "      <td>16</td>\n",
       "    </tr>\n",
       "    <tr>\n",
       "      <th>3</th>\n",
       "      <td>4.0</td>\n",
       "      <td>ALPHA</td>\n",
       "      <td>15</td>\n",
       "      <td>9</td>\n",
       "      <td>19</td>\n",
       "      <td>17</td>\n",
       "      <td>19</td>\n",
       "      <td>15</td>\n",
       "    </tr>\n",
       "    <tr>\n",
       "      <th>4</th>\n",
       "      <td>5.0</td>\n",
       "      <td>ALPHA</td>\n",
       "      <td>18</td>\n",
       "      <td>17</td>\n",
       "      <td>19</td>\n",
       "      <td>19</td>\n",
       "      <td>20</td>\n",
       "      <td>18</td>\n",
       "    </tr>\n",
       "    <tr>\n",
       "      <th>...</th>\n",
       "      <td>...</td>\n",
       "      <td>...</td>\n",
       "      <td>...</td>\n",
       "      <td>...</td>\n",
       "      <td>...</td>\n",
       "      <td>...</td>\n",
       "      <td>...</td>\n",
       "      <td>...</td>\n",
       "    </tr>\n",
       "    <tr>\n",
       "      <th>713</th>\n",
       "      <td>NaN</td>\n",
       "      <td>ZETA</td>\n",
       "      <td>19</td>\n",
       "      <td>8</td>\n",
       "      <td>8</td>\n",
       "      <td>19</td>\n",
       "      <td>17</td>\n",
       "      <td>18</td>\n",
       "    </tr>\n",
       "    <tr>\n",
       "      <th>714</th>\n",
       "      <td>NaN</td>\n",
       "      <td>ZETA</td>\n",
       "      <td>12</td>\n",
       "      <td>1</td>\n",
       "      <td>7</td>\n",
       "      <td>10</td>\n",
       "      <td>20</td>\n",
       "      <td>8</td>\n",
       "    </tr>\n",
       "    <tr>\n",
       "      <th>715</th>\n",
       "      <td>NaN</td>\n",
       "      <td>ZETA</td>\n",
       "      <td>17</td>\n",
       "      <td>6</td>\n",
       "      <td>14</td>\n",
       "      <td>14</td>\n",
       "      <td>17</td>\n",
       "      <td>18</td>\n",
       "    </tr>\n",
       "    <tr>\n",
       "      <th>716</th>\n",
       "      <td>NaN</td>\n",
       "      <td>ZETA</td>\n",
       "      <td>12</td>\n",
       "      <td>1</td>\n",
       "      <td>6</td>\n",
       "      <td>7</td>\n",
       "      <td>15</td>\n",
       "      <td>12</td>\n",
       "    </tr>\n",
       "    <tr>\n",
       "      <th>717</th>\n",
       "      <td>NaN</td>\n",
       "      <td>ZETA</td>\n",
       "      <td>19</td>\n",
       "      <td>14</td>\n",
       "      <td>17</td>\n",
       "      <td>16</td>\n",
       "      <td>20</td>\n",
       "      <td>19</td>\n",
       "    </tr>\n",
       "  </tbody>\n",
       "</table>\n",
       "<p>718 rows × 8 columns</p>\n",
       "</div>"
      ],
      "text/plain": [
       "     S.NO SECTION  DV M-II  PP BEEE  FL FIMS\n",
       "0     1.0   ALPHA  12    0  17    9  19   15\n",
       "1     2.0   ALPHA  19   12  16   16  18    3\n",
       "2     3.0   ALPHA  18   14  18   18  18   16\n",
       "3     4.0   ALPHA  15    9  19   17  19   15\n",
       "4     5.0   ALPHA  18   17  19   19  20   18\n",
       "..    ...     ...  ..  ...  ..  ...  ..  ...\n",
       "713   NaN    ZETA  19    8   8   19  17   18\n",
       "714   NaN    ZETA  12    1   7   10  20    8\n",
       "715   NaN    ZETA  17    6  14   14  17   18\n",
       "716   NaN    ZETA  12    1   6    7  15   12\n",
       "717   NaN    ZETA  19   14  17   16  20   19\n",
       "\n",
       "[718 rows x 8 columns]"
      ]
     },
     "execution_count": 3,
     "metadata": {},
     "output_type": "execute_result"
    }
   ],
   "source": [
    "df['SECTION'] = df['SECTION'].fillna('SIGMA') \n",
    "df['SECTION'] = df['SECTION'].replace('', 'SIGMA')\n",
    "df"
   ]
  },
  {
   "cell_type": "code",
   "execution_count": 4,
   "id": "1f1fb0ca",
   "metadata": {},
   "outputs": [
    {
     "name": "stdout",
     "output_type": "stream",
     "text": [
      "<class 'pandas.core.frame.DataFrame'>\n",
      "RangeIndex: 718 entries, 0 to 717\n",
      "Data columns (total 8 columns):\n",
      " #   Column   Non-Null Count  Dtype  \n",
      "---  ------   --------------  -----  \n",
      " 0   S.NO     601 non-null    float64\n",
      " 1   SECTION  718 non-null    object \n",
      " 2   DV       716 non-null    object \n",
      " 3   M-II     716 non-null    object \n",
      " 4   PP       716 non-null    object \n",
      " 5   BEEE     716 non-null    object \n",
      " 6   FL       715 non-null    object \n",
      " 7   FIMS     716 non-null    object \n",
      "dtypes: float64(1), object(7)\n",
      "memory usage: 45.0+ KB\n"
     ]
    }
   ],
   "source": [
    "df.info()"
   ]
  },
  {
   "cell_type": "code",
   "execution_count": 5,
   "id": "f43036cb",
   "metadata": {},
   "outputs": [
    {
     "data": {
      "text/html": [
       "<div>\n",
       "<style scoped>\n",
       "    .dataframe tbody tr th:only-of-type {\n",
       "        vertical-align: middle;\n",
       "    }\n",
       "\n",
       "    .dataframe tbody tr th {\n",
       "        vertical-align: top;\n",
       "    }\n",
       "\n",
       "    .dataframe thead th {\n",
       "        text-align: right;\n",
       "    }\n",
       "</style>\n",
       "<table border=\"1\" class=\"dataframe\">\n",
       "  <thead>\n",
       "    <tr style=\"text-align: right;\">\n",
       "      <th></th>\n",
       "      <th>S.NO</th>\n",
       "      <th>SECTION</th>\n",
       "      <th>DV</th>\n",
       "      <th>M-II</th>\n",
       "      <th>PP</th>\n",
       "      <th>BEEE</th>\n",
       "      <th>FL</th>\n",
       "      <th>FIMS</th>\n",
       "    </tr>\n",
       "  </thead>\n",
       "  <tbody>\n",
       "    <tr>\n",
       "      <th>0</th>\n",
       "      <td>1</td>\n",
       "      <td>ALPHA</td>\n",
       "      <td>12</td>\n",
       "      <td>0</td>\n",
       "      <td>17</td>\n",
       "      <td>9</td>\n",
       "      <td>19</td>\n",
       "      <td>15</td>\n",
       "    </tr>\n",
       "    <tr>\n",
       "      <th>1</th>\n",
       "      <td>2</td>\n",
       "      <td>ALPHA</td>\n",
       "      <td>19</td>\n",
       "      <td>12</td>\n",
       "      <td>16</td>\n",
       "      <td>16</td>\n",
       "      <td>18</td>\n",
       "      <td>3</td>\n",
       "    </tr>\n",
       "    <tr>\n",
       "      <th>2</th>\n",
       "      <td>3</td>\n",
       "      <td>ALPHA</td>\n",
       "      <td>18</td>\n",
       "      <td>14</td>\n",
       "      <td>18</td>\n",
       "      <td>18</td>\n",
       "      <td>18</td>\n",
       "      <td>16</td>\n",
       "    </tr>\n",
       "    <tr>\n",
       "      <th>3</th>\n",
       "      <td>4</td>\n",
       "      <td>ALPHA</td>\n",
       "      <td>15</td>\n",
       "      <td>9</td>\n",
       "      <td>19</td>\n",
       "      <td>17</td>\n",
       "      <td>19</td>\n",
       "      <td>15</td>\n",
       "    </tr>\n",
       "    <tr>\n",
       "      <th>4</th>\n",
       "      <td>5</td>\n",
       "      <td>ALPHA</td>\n",
       "      <td>18</td>\n",
       "      <td>17</td>\n",
       "      <td>19</td>\n",
       "      <td>19</td>\n",
       "      <td>20</td>\n",
       "      <td>18</td>\n",
       "    </tr>\n",
       "    <tr>\n",
       "      <th>...</th>\n",
       "      <td>...</td>\n",
       "      <td>...</td>\n",
       "      <td>...</td>\n",
       "      <td>...</td>\n",
       "      <td>...</td>\n",
       "      <td>...</td>\n",
       "      <td>...</td>\n",
       "      <td>...</td>\n",
       "    </tr>\n",
       "    <tr>\n",
       "      <th>713</th>\n",
       "      <td>714</td>\n",
       "      <td>ZETA</td>\n",
       "      <td>19</td>\n",
       "      <td>8</td>\n",
       "      <td>8</td>\n",
       "      <td>19</td>\n",
       "      <td>17</td>\n",
       "      <td>18</td>\n",
       "    </tr>\n",
       "    <tr>\n",
       "      <th>714</th>\n",
       "      <td>715</td>\n",
       "      <td>ZETA</td>\n",
       "      <td>12</td>\n",
       "      <td>1</td>\n",
       "      <td>7</td>\n",
       "      <td>10</td>\n",
       "      <td>20</td>\n",
       "      <td>8</td>\n",
       "    </tr>\n",
       "    <tr>\n",
       "      <th>715</th>\n",
       "      <td>716</td>\n",
       "      <td>ZETA</td>\n",
       "      <td>17</td>\n",
       "      <td>6</td>\n",
       "      <td>14</td>\n",
       "      <td>14</td>\n",
       "      <td>17</td>\n",
       "      <td>18</td>\n",
       "    </tr>\n",
       "    <tr>\n",
       "      <th>716</th>\n",
       "      <td>717</td>\n",
       "      <td>ZETA</td>\n",
       "      <td>12</td>\n",
       "      <td>1</td>\n",
       "      <td>6</td>\n",
       "      <td>7</td>\n",
       "      <td>15</td>\n",
       "      <td>12</td>\n",
       "    </tr>\n",
       "    <tr>\n",
       "      <th>717</th>\n",
       "      <td>718</td>\n",
       "      <td>ZETA</td>\n",
       "      <td>19</td>\n",
       "      <td>14</td>\n",
       "      <td>17</td>\n",
       "      <td>16</td>\n",
       "      <td>20</td>\n",
       "      <td>19</td>\n",
       "    </tr>\n",
       "  </tbody>\n",
       "</table>\n",
       "<p>718 rows × 8 columns</p>\n",
       "</div>"
      ],
      "text/plain": [
       "     S.NO SECTION  DV M-II  PP BEEE  FL FIMS\n",
       "0       1   ALPHA  12    0  17    9  19   15\n",
       "1       2   ALPHA  19   12  16   16  18    3\n",
       "2       3   ALPHA  18   14  18   18  18   16\n",
       "3       4   ALPHA  15    9  19   17  19   15\n",
       "4       5   ALPHA  18   17  19   19  20   18\n",
       "..    ...     ...  ..  ...  ..  ...  ..  ...\n",
       "713   714    ZETA  19    8   8   19  17   18\n",
       "714   715    ZETA  12    1   7   10  20    8\n",
       "715   716    ZETA  17    6  14   14  17   18\n",
       "716   717    ZETA  12    1   6    7  15   12\n",
       "717   718    ZETA  19   14  17   16  20   19\n",
       "\n",
       "[718 rows x 8 columns]"
      ]
     },
     "execution_count": 5,
     "metadata": {},
     "output_type": "execute_result"
    }
   ],
   "source": [
    "df['S.NO'] = range(1, len(df) + 1)\n",
    "df"
   ]
  },
  {
   "cell_type": "code",
   "execution_count": 6,
   "id": "d281a7fa",
   "metadata": {},
   "outputs": [
    {
     "name": "stdout",
     "output_type": "stream",
     "text": [
      "<class 'pandas.core.frame.DataFrame'>\n",
      "RangeIndex: 718 entries, 0 to 717\n",
      "Data columns (total 8 columns):\n",
      " #   Column   Non-Null Count  Dtype \n",
      "---  ------   --------------  ----- \n",
      " 0   S.NO     718 non-null    int64 \n",
      " 1   SECTION  718 non-null    object\n",
      " 2   DV       716 non-null    object\n",
      " 3   M-II     716 non-null    object\n",
      " 4   PP       716 non-null    object\n",
      " 5   BEEE     716 non-null    object\n",
      " 6   FL       715 non-null    object\n",
      " 7   FIMS     716 non-null    object\n",
      "dtypes: int64(1), object(7)\n",
      "memory usage: 45.0+ KB\n"
     ]
    }
   ],
   "source": [
    "df.info()"
   ]
  },
  {
   "cell_type": "code",
   "execution_count": 7,
   "id": "8d49010b",
   "metadata": {},
   "outputs": [],
   "source": [
    "df['FL'] = df['FL'].fillna(0) \n",
    "df=df.dropna()"
   ]
  },
  {
   "cell_type": "code",
   "execution_count": 8,
   "id": "9bebcfd6",
   "metadata": {},
   "outputs": [
    {
     "data": {
      "text/html": [
       "<div>\n",
       "<style scoped>\n",
       "    .dataframe tbody tr th:only-of-type {\n",
       "        vertical-align: middle;\n",
       "    }\n",
       "\n",
       "    .dataframe tbody tr th {\n",
       "        vertical-align: top;\n",
       "    }\n",
       "\n",
       "    .dataframe thead th {\n",
       "        text-align: right;\n",
       "    }\n",
       "</style>\n",
       "<table border=\"1\" class=\"dataframe\">\n",
       "  <thead>\n",
       "    <tr style=\"text-align: right;\">\n",
       "      <th></th>\n",
       "      <th>S.NO</th>\n",
       "      <th>SECTION</th>\n",
       "      <th>DV</th>\n",
       "      <th>M-II</th>\n",
       "      <th>PP</th>\n",
       "      <th>BEEE</th>\n",
       "      <th>FL</th>\n",
       "      <th>FIMS</th>\n",
       "    </tr>\n",
       "  </thead>\n",
       "  <tbody>\n",
       "    <tr>\n",
       "      <th>0</th>\n",
       "      <td>1</td>\n",
       "      <td>ALPHA</td>\n",
       "      <td>12</td>\n",
       "      <td>0</td>\n",
       "      <td>17</td>\n",
       "      <td>9</td>\n",
       "      <td>19</td>\n",
       "      <td>15</td>\n",
       "    </tr>\n",
       "    <tr>\n",
       "      <th>1</th>\n",
       "      <td>2</td>\n",
       "      <td>ALPHA</td>\n",
       "      <td>19</td>\n",
       "      <td>12</td>\n",
       "      <td>16</td>\n",
       "      <td>16</td>\n",
       "      <td>18</td>\n",
       "      <td>3</td>\n",
       "    </tr>\n",
       "    <tr>\n",
       "      <th>2</th>\n",
       "      <td>3</td>\n",
       "      <td>ALPHA</td>\n",
       "      <td>18</td>\n",
       "      <td>14</td>\n",
       "      <td>18</td>\n",
       "      <td>18</td>\n",
       "      <td>18</td>\n",
       "      <td>16</td>\n",
       "    </tr>\n",
       "    <tr>\n",
       "      <th>3</th>\n",
       "      <td>4</td>\n",
       "      <td>ALPHA</td>\n",
       "      <td>15</td>\n",
       "      <td>9</td>\n",
       "      <td>19</td>\n",
       "      <td>17</td>\n",
       "      <td>19</td>\n",
       "      <td>15</td>\n",
       "    </tr>\n",
       "    <tr>\n",
       "      <th>4</th>\n",
       "      <td>5</td>\n",
       "      <td>ALPHA</td>\n",
       "      <td>18</td>\n",
       "      <td>17</td>\n",
       "      <td>19</td>\n",
       "      <td>19</td>\n",
       "      <td>20</td>\n",
       "      <td>18</td>\n",
       "    </tr>\n",
       "    <tr>\n",
       "      <th>...</th>\n",
       "      <td>...</td>\n",
       "      <td>...</td>\n",
       "      <td>...</td>\n",
       "      <td>...</td>\n",
       "      <td>...</td>\n",
       "      <td>...</td>\n",
       "      <td>...</td>\n",
       "      <td>...</td>\n",
       "    </tr>\n",
       "    <tr>\n",
       "      <th>713</th>\n",
       "      <td>714</td>\n",
       "      <td>ZETA</td>\n",
       "      <td>19</td>\n",
       "      <td>8</td>\n",
       "      <td>8</td>\n",
       "      <td>19</td>\n",
       "      <td>17</td>\n",
       "      <td>18</td>\n",
       "    </tr>\n",
       "    <tr>\n",
       "      <th>714</th>\n",
       "      <td>715</td>\n",
       "      <td>ZETA</td>\n",
       "      <td>12</td>\n",
       "      <td>1</td>\n",
       "      <td>7</td>\n",
       "      <td>10</td>\n",
       "      <td>20</td>\n",
       "      <td>8</td>\n",
       "    </tr>\n",
       "    <tr>\n",
       "      <th>715</th>\n",
       "      <td>716</td>\n",
       "      <td>ZETA</td>\n",
       "      <td>17</td>\n",
       "      <td>6</td>\n",
       "      <td>14</td>\n",
       "      <td>14</td>\n",
       "      <td>17</td>\n",
       "      <td>18</td>\n",
       "    </tr>\n",
       "    <tr>\n",
       "      <th>716</th>\n",
       "      <td>717</td>\n",
       "      <td>ZETA</td>\n",
       "      <td>12</td>\n",
       "      <td>1</td>\n",
       "      <td>6</td>\n",
       "      <td>7</td>\n",
       "      <td>15</td>\n",
       "      <td>12</td>\n",
       "    </tr>\n",
       "    <tr>\n",
       "      <th>717</th>\n",
       "      <td>718</td>\n",
       "      <td>ZETA</td>\n",
       "      <td>19</td>\n",
       "      <td>14</td>\n",
       "      <td>17</td>\n",
       "      <td>16</td>\n",
       "      <td>20</td>\n",
       "      <td>19</td>\n",
       "    </tr>\n",
       "  </tbody>\n",
       "</table>\n",
       "<p>716 rows × 8 columns</p>\n",
       "</div>"
      ],
      "text/plain": [
       "     S.NO SECTION  DV M-II  PP BEEE  FL FIMS\n",
       "0       1   ALPHA  12    0  17    9  19   15\n",
       "1       2   ALPHA  19   12  16   16  18    3\n",
       "2       3   ALPHA  18   14  18   18  18   16\n",
       "3       4   ALPHA  15    9  19   17  19   15\n",
       "4       5   ALPHA  18   17  19   19  20   18\n",
       "..    ...     ...  ..  ...  ..  ...  ..  ...\n",
       "713   714    ZETA  19    8   8   19  17   18\n",
       "714   715    ZETA  12    1   7   10  20    8\n",
       "715   716    ZETA  17    6  14   14  17   18\n",
       "716   717    ZETA  12    1   6    7  15   12\n",
       "717   718    ZETA  19   14  17   16  20   19\n",
       "\n",
       "[716 rows x 8 columns]"
      ]
     },
     "execution_count": 8,
     "metadata": {},
     "output_type": "execute_result"
    }
   ],
   "source": [
    "df"
   ]
  },
  {
   "cell_type": "code",
   "execution_count": 9,
   "id": "cf96fa78",
   "metadata": {},
   "outputs": [
    {
     "data": {
      "image/png": "[encoded data removed]",
      "text/plain": [
       "<Figure size 640x480 with 1 Axes>"
      ]
     },
     "metadata": {},
     "output_type": "display_data"
    }
   ],
   "source": [
    "df.plot()\n",
    "plt.show()"
   ]
  },
  {
   "cell_type": "code",
   "execution_count": 10,
   "id": "ddbc0afb",
   "metadata": {},
   "outputs": [
    {
     "name": "stderr",
     "output_type": "stream",
     "text": [
      "C:\\Users\\malle\\AppData\\Local\\Temp\\ipykernel_14536\\4261985864.py:3: SettingWithCopyWarning: \n",
      "A value is trying to be set on a copy of a slice from a DataFrame.\n",
      "Try using .loc[row_indexer,col_indexer] = value instead\n",
      "\n",
      "See the caveats in the documentation: https://pandas.pydata.org/pandas-docs/stable/user_guide/indexing.html#returning-a-view-versus-a-copy\n",
      "  df.loc[:, column] = pd.to_numeric(df[column], errors='coerce').fillna(0)\n",
      "C:\\Users\\malle\\AppData\\Local\\Temp\\ipykernel_14536\\4261985864.py:3: DeprecationWarning: In a future version, `df.iloc[:, i] = newvals` will attempt to set the values inplace instead of always setting a new array. To retain the old behavior, use either `df[df.columns[i]] = newvals` or, if columns are non-unique, `df.isetitem(i, newvals)`\n",
      "  df.loc[:, column] = pd.to_numeric(df[column], errors='coerce').fillna(0)\n"
     ]
    }
   ],
   "source": [
    "columns_to_convert = ['DV', 'M-II', 'PP', 'BEEE', 'FL', 'FIMS']\n",
    "for column in columns_to_convert:\n",
    "    df.loc[:, column] = pd.to_numeric(df[column], errors='coerce').fillna(0)"
   ]
  },
  {
   "cell_type": "code",
   "execution_count": 11,
   "id": "7a2ee963",
   "metadata": {},
   "outputs": [
    {
     "data": {
      "text/html": [
       "<div>\n",
       "<style scoped>\n",
       "    .dataframe tbody tr th:only-of-type {\n",
       "        vertical-align: middle;\n",
       "    }\n",
       "\n",
       "    .dataframe tbody tr th {\n",
       "        vertical-align: top;\n",
       "    }\n",
       "\n",
       "    .dataframe thead th {\n",
       "        text-align: right;\n",
       "    }\n",
       "</style>\n",
       "<table border=\"1\" class=\"dataframe\">\n",
       "  <thead>\n",
       "    <tr style=\"text-align: right;\">\n",
       "      <th></th>\n",
       "      <th>S.NO</th>\n",
       "      <th>SECTION</th>\n",
       "      <th>DV</th>\n",
       "      <th>M-II</th>\n",
       "      <th>PP</th>\n",
       "      <th>BEEE</th>\n",
       "      <th>FL</th>\n",
       "      <th>FIMS</th>\n",
       "    </tr>\n",
       "  </thead>\n",
       "  <tbody>\n",
       "    <tr>\n",
       "      <th>0</th>\n",
       "      <td>1</td>\n",
       "      <td>ALPHA</td>\n",
       "      <td>12.0</td>\n",
       "      <td>0.0</td>\n",
       "      <td>17.0</td>\n",
       "      <td>9.0</td>\n",
       "      <td>19.0</td>\n",
       "      <td>15.0</td>\n",
       "    </tr>\n",
       "    <tr>\n",
       "      <th>1</th>\n",
       "      <td>2</td>\n",
       "      <td>ALPHA</td>\n",
       "      <td>19.0</td>\n",
       "      <td>12.0</td>\n",
       "      <td>16.0</td>\n",
       "      <td>16.0</td>\n",
       "      <td>18.0</td>\n",
       "      <td>3.0</td>\n",
       "    </tr>\n",
       "    <tr>\n",
       "      <th>2</th>\n",
       "      <td>3</td>\n",
       "      <td>ALPHA</td>\n",
       "      <td>18.0</td>\n",
       "      <td>14.0</td>\n",
       "      <td>18.0</td>\n",
       "      <td>18.0</td>\n",
       "      <td>18.0</td>\n",
       "      <td>16.0</td>\n",
       "    </tr>\n",
       "    <tr>\n",
       "      <th>3</th>\n",
       "      <td>4</td>\n",
       "      <td>ALPHA</td>\n",
       "      <td>15.0</td>\n",
       "      <td>9.0</td>\n",
       "      <td>19.0</td>\n",
       "      <td>17.0</td>\n",
       "      <td>19.0</td>\n",
       "      <td>15.0</td>\n",
       "    </tr>\n",
       "    <tr>\n",
       "      <th>4</th>\n",
       "      <td>5</td>\n",
       "      <td>ALPHA</td>\n",
       "      <td>18.0</td>\n",
       "      <td>17.0</td>\n",
       "      <td>19.0</td>\n",
       "      <td>19.0</td>\n",
       "      <td>20.0</td>\n",
       "      <td>18.0</td>\n",
       "    </tr>\n",
       "    <tr>\n",
       "      <th>...</th>\n",
       "      <td>...</td>\n",
       "      <td>...</td>\n",
       "      <td>...</td>\n",
       "      <td>...</td>\n",
       "      <td>...</td>\n",
       "      <td>...</td>\n",
       "      <td>...</td>\n",
       "      <td>...</td>\n",
       "    </tr>\n",
       "    <tr>\n",
       "      <th>713</th>\n",
       "      <td>714</td>\n",
       "      <td>ZETA</td>\n",
       "      <td>19.0</td>\n",
       "      <td>8.0</td>\n",
       "      <td>8.0</td>\n",
       "      <td>19.0</td>\n",
       "      <td>17.0</td>\n",
       "      <td>18.0</td>\n",
       "    </tr>\n",
       "    <tr>\n",
       "      <th>714</th>\n",
       "      <td>715</td>\n",
       "      <td>ZETA</td>\n",
       "      <td>12.0</td>\n",
       "      <td>1.0</td>\n",
       "      <td>7.0</td>\n",
       "      <td>10.0</td>\n",
       "      <td>20.0</td>\n",
       "      <td>8.0</td>\n",
       "    </tr>\n",
       "    <tr>\n",
       "      <th>715</th>\n",
       "      <td>716</td>\n",
       "      <td>ZETA</td>\n",
       "      <td>17.0</td>\n",
       "      <td>6.0</td>\n",
       "      <td>14.0</td>\n",
       "      <td>14.0</td>\n",
       "      <td>17.0</td>\n",
       "      <td>18.0</td>\n",
       "    </tr>\n",
       "    <tr>\n",
       "      <th>716</th>\n",
       "      <td>717</td>\n",
       "      <td>ZETA</td>\n",
       "      <td>12.0</td>\n",
       "      <td>1.0</td>\n",
       "      <td>6.0</td>\n",
       "      <td>7.0</td>\n",
       "      <td>15.0</td>\n",
       "      <td>12.0</td>\n",
       "    </tr>\n",
       "    <tr>\n",
       "      <th>717</th>\n",
       "      <td>718</td>\n",
       "      <td>ZETA</td>\n",
       "      <td>19.0</td>\n",
       "      <td>14.0</td>\n",
       "      <td>17.0</td>\n",
       "      <td>16.0</td>\n",
       "      <td>20.0</td>\n",
       "      <td>19.0</td>\n",
       "    </tr>\n",
       "  </tbody>\n",
       "</table>\n",
       "<p>716 rows × 8 columns</p>\n",
       "</div>"
      ],
      "text/plain": [
       "     S.NO SECTION    DV  M-II    PP  BEEE    FL  FIMS\n",
       "0       1   ALPHA  12.0   0.0  17.0   9.0  19.0  15.0\n",
       "1       2   ALPHA  19.0  12.0  16.0  16.0  18.0   3.0\n",
       "2       3   ALPHA  18.0  14.0  18.0  18.0  18.0  16.0\n",
       "3       4   ALPHA  15.0   9.0  19.0  17.0  19.0  15.0\n",
       "4       5   ALPHA  18.0  17.0  19.0  19.0  20.0  18.0\n",
       "..    ...     ...   ...   ...   ...   ...   ...   ...\n",
       "713   714    ZETA  19.0   8.0   8.0  19.0  17.0  18.0\n",
       "714   715    ZETA  12.0   1.0   7.0  10.0  20.0   8.0\n",
       "715   716    ZETA  17.0   6.0  14.0  14.0  17.0  18.0\n",
       "716   717    ZETA  12.0   1.0   6.0   7.0  15.0  12.0\n",
       "717   718    ZETA  19.0  14.0  17.0  16.0  20.0  19.0\n",
       "\n",
       "[716 rows x 8 columns]"
      ]
     },
     "execution_count": 11,
     "metadata": {},
     "output_type": "execute_result"
    }
   ],
   "source": [
    "df"
   ]
  },
  {
   "cell_type": "code",
   "execution_count": 12,
   "id": "9a305511",
   "metadata": {},
   "outputs": [
    {
     "data": {
      "image/png": "[encoded data removed]",
      "text/plain": [
       "<Figure size 800x500 with 1 Axes>"
      ]
     },
     "metadata": {},
     "output_type": "display_data"
    }
   ],
   "source": [
    "plt.figure(figsize=(8, 5))\n",
    "sns.histplot(df['DV'], bins=10,color='blue')\n",
    "plt.title('Distribution of Marks in DV', fontsize=16)\n",
    "plt.xlabel('Marks in DV', fontsize=12)\n",
    "plt.ylabel('Frequency', fontsize=12)\n",
    "plt.show()"
   ]
  },
  {
   "cell_type": "markdown",
   "id": "bca84529",
   "metadata": {},
   "source": [
    "# Shows the distribution of marks in the subject 'DV'. Peaks in the histogram indicate the marks ranges most students achieved."
   ]
  },
  {
   "cell_type": "code",
   "execution_count": 14,
   "id": "de90793e",
   "metadata": {
    "scrolled": true
   },
   "outputs": [
    {
     "data": {
      "image/png": "[encoded data removed]",
      "text/plain": [
       "<Figure size 800x500 with 1 Axes>"
      ]
     },
     "metadata": {},
     "output_type": "display_data"
    }
   ],
   "source": [
    "plt.figure(figsize=(8, 5))\n",
    "sns.histplot(df['M-II'], bins=10,color='orange')\n",
    "plt.title('Distribution of Marks in M-II', fontsize=16)\n",
    "plt.xlabel('Marks in M-II', fontsize=12)\n",
    "plt.ylabel('Frequency', fontsize=12)\n",
    "plt.show()"
   ]
  },
  {
   "cell_type": "markdown",
   "id": "d5b6441c",
   "metadata": {},
   "source": [
    "# Shows the distribution of marks in the subject 'M-11'."
   ]
  },
  {
   "cell_type": "code",
   "execution_count": 15,
   "id": "a1a10718",
   "metadata": {},
   "outputs": [],
   "source": [
    "subject_columns = ['DV', 'M-II', 'PP', 'BEEE', 'FL', 'FIMS']   \n"
   ]
  },
  {
   "cell_type": "code",
   "execution_count": 16,
   "id": "9ca0ecb3",
   "metadata": {},
   "outputs": [
    {
     "name": "stderr",
     "output_type": "stream",
     "text": [
      "C:\\Users\\malle\\AppData\\Local\\Temp\\ipykernel_13200\\3012990478.py:1: SettingWithCopyWarning: \n",
      "A value is trying to be set on a copy of a slice from a DataFrame.\n",
      "Try using .loc[row_indexer,col_indexer] = value instead\n",
      "\n",
      "See the caveats in the documentation: https://pandas.pydata.org/pandas-docs/stable/user_guide/indexing.html#returning-a-view-versus-a-copy\n",
      "  df[subject_columns] = df[subject_columns].apply(pd.to_numeric, errors='coerce')\n"
     ]
    }
   ],
   "source": [
    "df[subject_columns] = df[subject_columns].apply(pd.to_numeric, errors='coerce')"
   ]
  },
  {
   "cell_type": "code",
   "execution_count": 16,
   "id": "83474f0d",
   "metadata": {},
   "outputs": [
    {
     "name": "stderr",
     "output_type": "stream",
     "text": [
      "C:\\Users\\malle\\AppData\\Local\\Temp\\ipykernel_18360\\1685355222.py:1: SettingWithCopyWarning: \n",
      "A value is trying to be set on a copy of a slice from a DataFrame.\n",
      "Try using .loc[row_indexer,col_indexer] = value instead\n",
      "\n",
      "See the caveats in the documentation: https://pandas.pydata.org/pandas-docs/stable/user_guide/indexing.html#returning-a-view-versus-a-copy\n",
      "  df[subject_columns] = df[subject_columns].fillna(0)\n"
     ]
    }
   ],
   "source": [
    "df[subject_columns] = df[subject_columns].fillna(0)"
   ]
  },
  {
   "cell_type": "code",
   "execution_count": 17,
   "id": "d4776ba9",
   "metadata": {},
   "outputs": [
    {
     "data": {
      "text/html": [
       "<div>\n",
       "<style scoped>\n",
       "    .dataframe tbody tr th:only-of-type {\n",
       "        vertical-align: middle;\n",
       "    }\n",
       "\n",
       "    .dataframe tbody tr th {\n",
       "        vertical-align: top;\n",
       "    }\n",
       "\n",
       "    .dataframe thead th {\n",
       "        text-align: right;\n",
       "    }\n",
       "</style>\n",
       "<table border=\"1\" class=\"dataframe\">\n",
       "  <thead>\n",
       "    <tr style=\"text-align: right;\">\n",
       "      <th></th>\n",
       "      <th>S.NO</th>\n",
       "      <th>SECTION</th>\n",
       "      <th>DV</th>\n",
       "      <th>M-II</th>\n",
       "      <th>PP</th>\n",
       "      <th>BEEE</th>\n",
       "      <th>FL</th>\n",
       "      <th>FIMS</th>\n",
       "    </tr>\n",
       "  </thead>\n",
       "  <tbody>\n",
       "    <tr>\n",
       "      <th>0</th>\n",
       "      <td>1</td>\n",
       "      <td>ALPHA</td>\n",
       "      <td>12.0</td>\n",
       "      <td>0.0</td>\n",
       "      <td>17.0</td>\n",
       "      <td>9.0</td>\n",
       "      <td>19.0</td>\n",
       "      <td>15.0</td>\n",
       "    </tr>\n",
       "    <tr>\n",
       "      <th>1</th>\n",
       "      <td>2</td>\n",
       "      <td>ALPHA</td>\n",
       "      <td>19.0</td>\n",
       "      <td>12.0</td>\n",
       "      <td>16.0</td>\n",
       "      <td>16.0</td>\n",
       "      <td>18.0</td>\n",
       "      <td>3.0</td>\n",
       "    </tr>\n",
       "    <tr>\n",
       "      <th>2</th>\n",
       "      <td>3</td>\n",
       "      <td>ALPHA</td>\n",
       "      <td>18.0</td>\n",
       "      <td>14.0</td>\n",
       "      <td>18.0</td>\n",
       "      <td>18.0</td>\n",
       "      <td>18.0</td>\n",
       "      <td>16.0</td>\n",
       "    </tr>\n",
       "    <tr>\n",
       "      <th>3</th>\n",
       "      <td>4</td>\n",
       "      <td>ALPHA</td>\n",
       "      <td>15.0</td>\n",
       "      <td>9.0</td>\n",
       "      <td>19.0</td>\n",
       "      <td>17.0</td>\n",
       "      <td>19.0</td>\n",
       "      <td>15.0</td>\n",
       "    </tr>\n",
       "    <tr>\n",
       "      <th>4</th>\n",
       "      <td>5</td>\n",
       "      <td>ALPHA</td>\n",
       "      <td>18.0</td>\n",
       "      <td>17.0</td>\n",
       "      <td>19.0</td>\n",
       "      <td>19.0</td>\n",
       "      <td>20.0</td>\n",
       "      <td>18.0</td>\n",
       "    </tr>\n",
       "    <tr>\n",
       "      <th>...</th>\n",
       "      <td>...</td>\n",
       "      <td>...</td>\n",
       "      <td>...</td>\n",
       "      <td>...</td>\n",
       "      <td>...</td>\n",
       "      <td>...</td>\n",
       "      <td>...</td>\n",
       "      <td>...</td>\n",
       "    </tr>\n",
       "    <tr>\n",
       "      <th>713</th>\n",
       "      <td>714</td>\n",
       "      <td>ZETA</td>\n",
       "      <td>19.0</td>\n",
       "      <td>8.0</td>\n",
       "      <td>8.0</td>\n",
       "      <td>19.0</td>\n",
       "      <td>17.0</td>\n",
       "      <td>18.0</td>\n",
       "    </tr>\n",
       "    <tr>\n",
       "      <th>714</th>\n",
       "      <td>715</td>\n",
       "      <td>ZETA</td>\n",
       "      <td>12.0</td>\n",
       "      <td>1.0</td>\n",
       "      <td>7.0</td>\n",
       "      <td>10.0</td>\n",
       "      <td>20.0</td>\n",
       "      <td>8.0</td>\n",
       "    </tr>\n",
       "    <tr>\n",
       "      <th>715</th>\n",
       "      <td>716</td>\n",
       "      <td>ZETA</td>\n",
       "      <td>17.0</td>\n",
       "      <td>6.0</td>\n",
       "      <td>14.0</td>\n",
       "      <td>14.0</td>\n",
       "      <td>17.0</td>\n",
       "      <td>18.0</td>\n",
       "    </tr>\n",
       "    <tr>\n",
       "      <th>716</th>\n",
       "      <td>717</td>\n",
       "      <td>ZETA</td>\n",
       "      <td>12.0</td>\n",
       "      <td>1.0</td>\n",
       "      <td>6.0</td>\n",
       "      <td>7.0</td>\n",
       "      <td>15.0</td>\n",
       "      <td>12.0</td>\n",
       "    </tr>\n",
       "    <tr>\n",
       "      <th>717</th>\n",
       "      <td>718</td>\n",
       "      <td>ZETA</td>\n",
       "      <td>19.0</td>\n",
       "      <td>14.0</td>\n",
       "      <td>17.0</td>\n",
       "      <td>16.0</td>\n",
       "      <td>20.0</td>\n",
       "      <td>19.0</td>\n",
       "    </tr>\n",
       "  </tbody>\n",
       "</table>\n",
       "<p>716 rows × 8 columns</p>\n",
       "</div>"
      ],
      "text/plain": [
       "     S.NO SECTION    DV  M-II    PP  BEEE    FL  FIMS\n",
       "0       1   ALPHA  12.0   0.0  17.0   9.0  19.0  15.0\n",
       "1       2   ALPHA  19.0  12.0  16.0  16.0  18.0   3.0\n",
       "2       3   ALPHA  18.0  14.0  18.0  18.0  18.0  16.0\n",
       "3       4   ALPHA  15.0   9.0  19.0  17.0  19.0  15.0\n",
       "4       5   ALPHA  18.0  17.0  19.0  19.0  20.0  18.0\n",
       "..    ...     ...   ...   ...   ...   ...   ...   ...\n",
       "713   714    ZETA  19.0   8.0   8.0  19.0  17.0  18.0\n",
       "714   715    ZETA  12.0   1.0   7.0  10.0  20.0   8.0\n",
       "715   716    ZETA  17.0   6.0  14.0  14.0  17.0  18.0\n",
       "716   717    ZETA  12.0   1.0   6.0   7.0  15.0  12.0\n",
       "717   718    ZETA  19.0  14.0  17.0  16.0  20.0  19.0\n",
       "\n",
       "[716 rows x 8 columns]"
      ]
     },
     "execution_count": 17,
     "metadata": {},
     "output_type": "execute_result"
    }
   ],
   "source": [
    "df"
   ]
  },
  {
   "cell_type": "code",
   "execution_count": 18,
   "id": "c14fc9ca",
   "metadata": {},
   "outputs": [
    {
     "name": "stderr",
     "output_type": "stream",
     "text": [
      "C:\\Users\\malle\\AppData\\Local\\Temp\\ipykernel_18360\\3218928127.py:1: SettingWithCopyWarning: \n",
      "A value is trying to be set on a copy of a slice from a DataFrame.\n",
      "Try using .loc[row_indexer,col_indexer] = value instead\n",
      "\n",
      "See the caveats in the documentation: https://pandas.pydata.org/pandas-docs/stable/user_guide/indexing.html#returning-a-view-versus-a-copy\n",
      "  df['TOTAL'] = df[subject_columns].sum(axis=1)\n"
     ]
    }
   ],
   "source": [
    "df['TOTAL'] = df[subject_columns].sum(axis=1)\n"
   ]
  },
  {
   "cell_type": "code",
   "execution_count": 19,
   "id": "9088ef60",
   "metadata": {},
   "outputs": [
    {
     "data": {
      "text/html": [
       "<div>\n",
       "<style scoped>\n",
       "    .dataframe tbody tr th:only-of-type {\n",
       "        vertical-align: middle;\n",
       "    }\n",
       "\n",
       "    .dataframe tbody tr th {\n",
       "        vertical-align: top;\n",
       "    }\n",
       "\n",
       "    .dataframe thead th {\n",
       "        text-align: right;\n",
       "    }\n",
       "</style>\n",
       "<table border=\"1\" class=\"dataframe\">\n",
       "  <thead>\n",
       "    <tr style=\"text-align: right;\">\n",
       "      <th></th>\n",
       "      <th>S.NO</th>\n",
       "      <th>SECTION</th>\n",
       "      <th>DV</th>\n",
       "      <th>M-II</th>\n",
       "      <th>PP</th>\n",
       "      <th>BEEE</th>\n",
       "      <th>FL</th>\n",
       "      <th>FIMS</th>\n",
       "      <th>TOTAL</th>\n",
       "    </tr>\n",
       "  </thead>\n",
       "  <tbody>\n",
       "    <tr>\n",
       "      <th>0</th>\n",
       "      <td>1</td>\n",
       "      <td>ALPHA</td>\n",
       "      <td>12.0</td>\n",
       "      <td>0.0</td>\n",
       "      <td>17.0</td>\n",
       "      <td>9.0</td>\n",
       "      <td>19.0</td>\n",
       "      <td>15.0</td>\n",
       "      <td>72.0</td>\n",
       "    </tr>\n",
       "    <tr>\n",
       "      <th>1</th>\n",
       "      <td>2</td>\n",
       "      <td>ALPHA</td>\n",
       "      <td>19.0</td>\n",
       "      <td>12.0</td>\n",
       "      <td>16.0</td>\n",
       "      <td>16.0</td>\n",
       "      <td>18.0</td>\n",
       "      <td>3.0</td>\n",
       "      <td>84.0</td>\n",
       "    </tr>\n",
       "    <tr>\n",
       "      <th>2</th>\n",
       "      <td>3</td>\n",
       "      <td>ALPHA</td>\n",
       "      <td>18.0</td>\n",
       "      <td>14.0</td>\n",
       "      <td>18.0</td>\n",
       "      <td>18.0</td>\n",
       "      <td>18.0</td>\n",
       "      <td>16.0</td>\n",
       "      <td>102.0</td>\n",
       "    </tr>\n",
       "    <tr>\n",
       "      <th>3</th>\n",
       "      <td>4</td>\n",
       "      <td>ALPHA</td>\n",
       "      <td>15.0</td>\n",
       "      <td>9.0</td>\n",
       "      <td>19.0</td>\n",
       "      <td>17.0</td>\n",
       "      <td>19.0</td>\n",
       "      <td>15.0</td>\n",
       "      <td>94.0</td>\n",
       "    </tr>\n",
       "    <tr>\n",
       "      <th>4</th>\n",
       "      <td>5</td>\n",
       "      <td>ALPHA</td>\n",
       "      <td>18.0</td>\n",
       "      <td>17.0</td>\n",
       "      <td>19.0</td>\n",
       "      <td>19.0</td>\n",
       "      <td>20.0</td>\n",
       "      <td>18.0</td>\n",
       "      <td>111.0</td>\n",
       "    </tr>\n",
       "    <tr>\n",
       "      <th>...</th>\n",
       "      <td>...</td>\n",
       "      <td>...</td>\n",
       "      <td>...</td>\n",
       "      <td>...</td>\n",
       "      <td>...</td>\n",
       "      <td>...</td>\n",
       "      <td>...</td>\n",
       "      <td>...</td>\n",
       "      <td>...</td>\n",
       "    </tr>\n",
       "    <tr>\n",
       "      <th>713</th>\n",
       "      <td>714</td>\n",
       "      <td>ZETA</td>\n",
       "      <td>19.0</td>\n",
       "      <td>8.0</td>\n",
       "      <td>8.0</td>\n",
       "      <td>19.0</td>\n",
       "      <td>17.0</td>\n",
       "      <td>18.0</td>\n",
       "      <td>89.0</td>\n",
       "    </tr>\n",
       "    <tr>\n",
       "      <th>714</th>\n",
       "      <td>715</td>\n",
       "      <td>ZETA</td>\n",
       "      <td>12.0</td>\n",
       "      <td>1.0</td>\n",
       "      <td>7.0</td>\n",
       "      <td>10.0</td>\n",
       "      <td>20.0</td>\n",
       "      <td>8.0</td>\n",
       "      <td>58.0</td>\n",
       "    </tr>\n",
       "    <tr>\n",
       "      <th>715</th>\n",
       "      <td>716</td>\n",
       "      <td>ZETA</td>\n",
       "      <td>17.0</td>\n",
       "      <td>6.0</td>\n",
       "      <td>14.0</td>\n",
       "      <td>14.0</td>\n",
       "      <td>17.0</td>\n",
       "      <td>18.0</td>\n",
       "      <td>86.0</td>\n",
       "    </tr>\n",
       "    <tr>\n",
       "      <th>716</th>\n",
       "      <td>717</td>\n",
       "      <td>ZETA</td>\n",
       "      <td>12.0</td>\n",
       "      <td>1.0</td>\n",
       "      <td>6.0</td>\n",
       "      <td>7.0</td>\n",
       "      <td>15.0</td>\n",
       "      <td>12.0</td>\n",
       "      <td>53.0</td>\n",
       "    </tr>\n",
       "    <tr>\n",
       "      <th>717</th>\n",
       "      <td>718</td>\n",
       "      <td>ZETA</td>\n",
       "      <td>19.0</td>\n",
       "      <td>14.0</td>\n",
       "      <td>17.0</td>\n",
       "      <td>16.0</td>\n",
       "      <td>20.0</td>\n",
       "      <td>19.0</td>\n",
       "      <td>105.0</td>\n",
       "    </tr>\n",
       "  </tbody>\n",
       "</table>\n",
       "<p>716 rows × 9 columns</p>\n",
       "</div>"
      ],
      "text/plain": [
       "     S.NO SECTION    DV  M-II    PP  BEEE    FL  FIMS  TOTAL\n",
       "0       1   ALPHA  12.0   0.0  17.0   9.0  19.0  15.0   72.0\n",
       "1       2   ALPHA  19.0  12.0  16.0  16.0  18.0   3.0   84.0\n",
       "2       3   ALPHA  18.0  14.0  18.0  18.0  18.0  16.0  102.0\n",
       "3       4   ALPHA  15.0   9.0  19.0  17.0  19.0  15.0   94.0\n",
       "4       5   ALPHA  18.0  17.0  19.0  19.0  20.0  18.0  111.0\n",
       "..    ...     ...   ...   ...   ...   ...   ...   ...    ...\n",
       "713   714    ZETA  19.0   8.0   8.0  19.0  17.0  18.0   89.0\n",
       "714   715    ZETA  12.0   1.0   7.0  10.0  20.0   8.0   58.0\n",
       "715   716    ZETA  17.0   6.0  14.0  14.0  17.0  18.0   86.0\n",
       "716   717    ZETA  12.0   1.0   6.0   7.0  15.0  12.0   53.0\n",
       "717   718    ZETA  19.0  14.0  17.0  16.0  20.0  19.0  105.0\n",
       "\n",
       "[716 rows x 9 columns]"
      ]
     },
     "execution_count": 19,
     "metadata": {},
     "output_type": "execute_result"
    }
   ],
   "source": [
    "df"
   ]
  },
  {
   "cell_type": "code",
   "execution_count": 20,
   "id": "df038675",
   "metadata": {},
   "outputs": [
    {
     "data": {
      "image/png": "[encoded data removed]",
      "text/plain": [
       "<Figure size 800x600 with 1 Axes>"
      ]
     },
     "metadata": {},
     "output_type": "display_data"
    }
   ],
   "source": [
    "plt.figure(figsize=[8, 6])\n",
    "plt.hist(df['TOTAL'], color='blue', bins=10, edgecolor='black')\n",
    "plt.title(\"Distribution of Total Marks\")\n",
    "plt.xlabel(\"Total Marks\")\n",
    "plt.ylabel(\"Number of Students\")\n",
    "plt.show()"
   ]
  },
  {
   "cell_type": "markdown",
   "id": "55ddf122",
   "metadata": {},
   "source": [
    "# Distribution of total marks"
   ]
  },
  {
   "cell_type": "code",
   "execution_count": 21,
   "id": "3c247962",
   "metadata": {},
   "outputs": [],
   "source": [
    "subject_columns = ['DV', 'M-II', 'PP', 'BEEE', 'FL', 'FIMS']\n",
    "subject_averages = df[subject_columns].mean()"
   ]
  },
  {
   "cell_type": "code",
   "execution_count": 22,
   "id": "d3e2113a",
   "metadata": {},
   "outputs": [
    {
     "data": {
      "text/plain": [
       "DV      14.787709\n",
       "M-II     9.949721\n",
       "PP      12.769553\n",
       "BEEE    13.287709\n",
       "FL      15.544693\n",
       "FIMS    14.047486\n",
       "dtype: float64"
      ]
     },
     "execution_count": 22,
     "metadata": {},
     "output_type": "execute_result"
    }
   ],
   "source": [
    "subject_averages"
   ]
  },
  {
   "cell_type": "code",
   "execution_count": 23,
   "id": "6b99297b",
   "metadata": {},
   "outputs": [
    {
     "data": {
      "image/png": "[encoded data removed]",
      "text/plain": [
       "<Figure size 1000x600 with 1 Axes>"
      ]
     },
     "metadata": {},
     "output_type": "display_data"
    }
   ],
   "source": [
    "plt.figure(figsize=(10, 6))\n",
    "subject_averages.plot(kind='bar', color='skyblue')\n",
    "plt.title('Average Marks per Subject', fontsize=16)\n",
    "plt.xlabel('Subjects', fontsize=12)\n",
    "plt.ylabel('Average Marks', fontsize=12)\n",
    "plt.xticks(rotation=45)\n",
    "plt.grid(axis='y')\n",
    "plt.show()\n"
   ]
  },
  {
   "cell_type": "markdown",
   "id": "c613c6c4",
   "metadata": {},
   "source": [
    "# Average marks each subject"
   ]
  },
  {
   "cell_type": "code",
   "execution_count": 24,
   "id": "c6233ee1",
   "metadata": {},
   "outputs": [
    {
     "data": {
      "image/png": "[encoded data removed]",
      "text/plain": [
       "<Figure size 800x500 with 1 Axes>"
      ]
     },
     "metadata": {},
     "output_type": "display_data"
    }
   ],
   "source": [
    "subject_with_highest_avg = df[['DV', 'M-II', 'PP', 'BEEE', 'FL', 'FIMS']].mean().idxmax()\n",
    "plt.figure(figsize=(8, 5))\n",
    "sns.histplot(df[subject_with_highest_avg], bins=10,  color='orange')\n",
    "plt.title(f'Distribution of Marks in {subject_with_highest_avg}', fontsize=16)\n",
    "plt.xlabel(f'Marks in {subject_with_highest_avg}', fontsize=12)\n",
    "plt.ylabel('Frequency', fontsize=12)\n",
    "plt.show()\n"
   ]
  },
  {
   "cell_type": "markdown",
   "id": "295a0b98",
   "metadata": {},
   "source": [
    "# Distribution of marks in fl subject"
   ]
  },
  {
   "cell_type": "code",
   "execution_count": 25,
   "id": "1b9c66a5",
   "metadata": {},
   "outputs": [
    {
     "data": {
      "image/png": "[encoded data removed]",
      "text/plain": [
       "<Figure size 800x600 with 1 Axes>"
      ]
     },
     "metadata": {},
     "output_type": "display_data"
    }
   ],
   "source": [
    "average_total_by_section = df.groupby('SECTION')['TOTAL'].mean()\n",
    "plt.figure(figsize=[8, 6])\n",
    "average_total_by_section.plot(kind='bar', color='purple', edgecolor='black')\n",
    "plt.title(\"Average Total Marks by Section\")\n",
    "plt.xlabel(\"Section\")\n",
    "plt.ylabel(\"Average Total Marks\")\n",
    "plt.show()"
   ]
  },
  {
   "cell_type": "markdown",
   "id": "8acda523",
   "metadata": {},
   "source": [
    "# Average of total marks in each section"
   ]
  },
  {
   "cell_type": "code",
   "execution_count": 26,
   "id": "61fe77a7",
   "metadata": {},
   "outputs": [
    {
     "name": "stderr",
     "output_type": "stream",
     "text": [
      "C:\\Users\\malle\\AppData\\Local\\Temp\\ipykernel_18360\\2913321001.py:1: SettingWithCopyWarning: \n",
      "A value is trying to be set on a copy of a slice from a DataFrame.\n",
      "Try using .loc[row_indexer,col_indexer] = value instead\n",
      "\n",
      "See the caveats in the documentation: https://pandas.pydata.org/pandas-docs/stable/user_guide/indexing.html#returning-a-view-versus-a-copy\n",
      "  df['Total'] = df[['DV', 'M-II', 'PP', 'BEEE', 'FL', 'FIMS']].sum(axis=1)\n",
      "C:\\Users\\malle\\AppData\\Local\\Temp\\ipykernel_18360\\2913321001.py:5: SettingWithCopyWarning: \n",
      "A value is trying to be set on a copy of a slice from a DataFrame.\n",
      "Try using .loc[row_indexer,col_indexer] = value instead\n",
      "\n",
      "See the caveats in the documentation: https://pandas.pydata.org/pandas-docs/stable/user_guide/indexing.html#returning-a-view-versus-a-copy\n",
      "  df['Percentage'] = (df['Total'] / max_total_marks) * 100\n"
     ]
    }
   ],
   "source": [
    "\n",
    "df['Total'] = df[['DV', 'M-II', 'PP', 'BEEE', 'FL', 'FIMS']].sum(axis=1)\n",
    "max_marks_per_subject = 100\n",
    "num_subjects = len(['DV', 'M-II', 'PP', 'BEEE', 'FL', 'FIMS'])\n",
    "max_total_marks = max_marks_per_subject * num_subjects\n",
    "df['Percentage'] = (df['Total'] / max_total_marks) * 100\n"
   ]
  },
  {
   "cell_type": "code",
   "execution_count": 27,
   "id": "706b27ff",
   "metadata": {},
   "outputs": [
    {
     "data": {
      "text/html": [
       "<div>\n",
       "<style scoped>\n",
       "    .dataframe tbody tr th:only-of-type {\n",
       "        vertical-align: middle;\n",
       "    }\n",
       "\n",
       "    .dataframe tbody tr th {\n",
       "        vertical-align: top;\n",
       "    }\n",
       "\n",
       "    .dataframe thead th {\n",
       "        text-align: right;\n",
       "    }\n",
       "</style>\n",
       "<table border=\"1\" class=\"dataframe\">\n",
       "  <thead>\n",
       "    <tr style=\"text-align: right;\">\n",
       "      <th></th>\n",
       "      <th>S.NO</th>\n",
       "      <th>SECTION</th>\n",
       "      <th>DV</th>\n",
       "      <th>M-II</th>\n",
       "      <th>PP</th>\n",
       "      <th>BEEE</th>\n",
       "      <th>FL</th>\n",
       "      <th>FIMS</th>\n",
       "      <th>TOTAL</th>\n",
       "      <th>Total</th>\n",
       "      <th>Percentage</th>\n",
       "    </tr>\n",
       "  </thead>\n",
       "  <tbody>\n",
       "    <tr>\n",
       "      <th>0</th>\n",
       "      <td>1</td>\n",
       "      <td>ALPHA</td>\n",
       "      <td>12.0</td>\n",
       "      <td>0.0</td>\n",
       "      <td>17.0</td>\n",
       "      <td>9.0</td>\n",
       "      <td>19.0</td>\n",
       "      <td>15.0</td>\n",
       "      <td>72.0</td>\n",
       "      <td>72.0</td>\n",
       "      <td>12.000000</td>\n",
       "    </tr>\n",
       "    <tr>\n",
       "      <th>1</th>\n",
       "      <td>2</td>\n",
       "      <td>ALPHA</td>\n",
       "      <td>19.0</td>\n",
       "      <td>12.0</td>\n",
       "      <td>16.0</td>\n",
       "      <td>16.0</td>\n",
       "      <td>18.0</td>\n",
       "      <td>3.0</td>\n",
       "      <td>84.0</td>\n",
       "      <td>84.0</td>\n",
       "      <td>14.000000</td>\n",
       "    </tr>\n",
       "    <tr>\n",
       "      <th>2</th>\n",
       "      <td>3</td>\n",
       "      <td>ALPHA</td>\n",
       "      <td>18.0</td>\n",
       "      <td>14.0</td>\n",
       "      <td>18.0</td>\n",
       "      <td>18.0</td>\n",
       "      <td>18.0</td>\n",
       "      <td>16.0</td>\n",
       "      <td>102.0</td>\n",
       "      <td>102.0</td>\n",
       "      <td>17.000000</td>\n",
       "    </tr>\n",
       "    <tr>\n",
       "      <th>3</th>\n",
       "      <td>4</td>\n",
       "      <td>ALPHA</td>\n",
       "      <td>15.0</td>\n",
       "      <td>9.0</td>\n",
       "      <td>19.0</td>\n",
       "      <td>17.0</td>\n",
       "      <td>19.0</td>\n",
       "      <td>15.0</td>\n",
       "      <td>94.0</td>\n",
       "      <td>94.0</td>\n",
       "      <td>15.666667</td>\n",
       "    </tr>\n",
       "    <tr>\n",
       "      <th>4</th>\n",
       "      <td>5</td>\n",
       "      <td>ALPHA</td>\n",
       "      <td>18.0</td>\n",
       "      <td>17.0</td>\n",
       "      <td>19.0</td>\n",
       "      <td>19.0</td>\n",
       "      <td>20.0</td>\n",
       "      <td>18.0</td>\n",
       "      <td>111.0</td>\n",
       "      <td>111.0</td>\n",
       "      <td>18.500000</td>\n",
       "    </tr>\n",
       "    <tr>\n",
       "      <th>...</th>\n",
       "      <td>...</td>\n",
       "      <td>...</td>\n",
       "      <td>...</td>\n",
       "      <td>...</td>\n",
       "      <td>...</td>\n",
       "      <td>...</td>\n",
       "      <td>...</td>\n",
       "      <td>...</td>\n",
       "      <td>...</td>\n",
       "      <td>...</td>\n",
       "      <td>...</td>\n",
       "    </tr>\n",
       "    <tr>\n",
       "      <th>713</th>\n",
       "      <td>714</td>\n",
       "      <td>ZETA</td>\n",
       "      <td>19.0</td>\n",
       "      <td>8.0</td>\n",
       "      <td>8.0</td>\n",
       "      <td>19.0</td>\n",
       "      <td>17.0</td>\n",
       "      <td>18.0</td>\n",
       "      <td>89.0</td>\n",
       "      <td>89.0</td>\n",
       "      <td>14.833333</td>\n",
       "    </tr>\n",
       "    <tr>\n",
       "      <th>714</th>\n",
       "      <td>715</td>\n",
       "      <td>ZETA</td>\n",
       "      <td>12.0</td>\n",
       "      <td>1.0</td>\n",
       "      <td>7.0</td>\n",
       "      <td>10.0</td>\n",
       "      <td>20.0</td>\n",
       "      <td>8.0</td>\n",
       "      <td>58.0</td>\n",
       "      <td>58.0</td>\n",
       "      <td>9.666667</td>\n",
       "    </tr>\n",
       "    <tr>\n",
       "      <th>715</th>\n",
       "      <td>716</td>\n",
       "      <td>ZETA</td>\n",
       "      <td>17.0</td>\n",
       "      <td>6.0</td>\n",
       "      <td>14.0</td>\n",
       "      <td>14.0</td>\n",
       "      <td>17.0</td>\n",
       "      <td>18.0</td>\n",
       "      <td>86.0</td>\n",
       "      <td>86.0</td>\n",
       "      <td>14.333333</td>\n",
       "    </tr>\n",
       "    <tr>\n",
       "      <th>716</th>\n",
       "      <td>717</td>\n",
       "      <td>ZETA</td>\n",
       "      <td>12.0</td>\n",
       "      <td>1.0</td>\n",
       "      <td>6.0</td>\n",
       "      <td>7.0</td>\n",
       "      <td>15.0</td>\n",
       "      <td>12.0</td>\n",
       "      <td>53.0</td>\n",
       "      <td>53.0</td>\n",
       "      <td>8.833333</td>\n",
       "    </tr>\n",
       "    <tr>\n",
       "      <th>717</th>\n",
       "      <td>718</td>\n",
       "      <td>ZETA</td>\n",
       "      <td>19.0</td>\n",
       "      <td>14.0</td>\n",
       "      <td>17.0</td>\n",
       "      <td>16.0</td>\n",
       "      <td>20.0</td>\n",
       "      <td>19.0</td>\n",
       "      <td>105.0</td>\n",
       "      <td>105.0</td>\n",
       "      <td>17.500000</td>\n",
       "    </tr>\n",
       "  </tbody>\n",
       "</table>\n",
       "<p>716 rows × 11 columns</p>\n",
       "</div>"
      ],
      "text/plain": [
       "     S.NO SECTION    DV  M-II    PP  BEEE    FL  FIMS  TOTAL  Total  \\\n",
       "0       1   ALPHA  12.0   0.0  17.0   9.0  19.0  15.0   72.0   72.0   \n",
       "1       2   ALPHA  19.0  12.0  16.0  16.0  18.0   3.0   84.0   84.0   \n",
       "2       3   ALPHA  18.0  14.0  18.0  18.0  18.0  16.0  102.0  102.0   \n",
       "3       4   ALPHA  15.0   9.0  19.0  17.0  19.0  15.0   94.0   94.0   \n",
       "4       5   ALPHA  18.0  17.0  19.0  19.0  20.0  18.0  111.0  111.0   \n",
       "..    ...     ...   ...   ...   ...   ...   ...   ...    ...    ...   \n",
       "713   714    ZETA  19.0   8.0   8.0  19.0  17.0  18.0   89.0   89.0   \n",
       "714   715    ZETA  12.0   1.0   7.0  10.0  20.0   8.0   58.0   58.0   \n",
       "715   716    ZETA  17.0   6.0  14.0  14.0  17.0  18.0   86.0   86.0   \n",
       "716   717    ZETA  12.0   1.0   6.0   7.0  15.0  12.0   53.0   53.0   \n",
       "717   718    ZETA  19.0  14.0  17.0  16.0  20.0  19.0  105.0  105.0   \n",
       "\n",
       "     Percentage  \n",
       "0     12.000000  \n",
       "1     14.000000  \n",
       "2     17.000000  \n",
       "3     15.666667  \n",
       "4     18.500000  \n",
       "..          ...  \n",
       "713   14.833333  \n",
       "714    9.666667  \n",
       "715   14.333333  \n",
       "716    8.833333  \n",
       "717   17.500000  \n",
       "\n",
       "[716 rows x 11 columns]"
      ]
     },
     "execution_count": 27,
     "metadata": {},
     "output_type": "execute_result"
    }
   ],
   "source": [
    "df"
   ]
  },
  {
   "cell_type": "markdown",
   "id": "7ea6fe19",
   "metadata": {},
   "source": [
    "# Adding Percentage Column"
   ]
  },
  {
   "cell_type": "code",
   "execution_count": 28,
   "id": "f63e6c5c",
   "metadata": {},
   "outputs": [
    {
     "data": {
      "image/png": "[encoded data removed]",
      "text/plain": [
       "<Figure size 800x500 with 1 Axes>"
      ]
     },
     "metadata": {},
     "output_type": "display_data"
    }
   ],
   "source": [
    "plt.figure(figsize=(8, 5))\n",
    "sns.histplot(df['Percentage'], bins=10, color='teal')\n",
    "plt.title('Distribution of Percentages', fontsize=16)\n",
    "plt.xlabel('Percentage', fontsize=12)\n",
    "plt.ylabel('Frequency', fontsize=12)\n",
    "plt.show()\n"
   ]
  },
  {
   "cell_type": "markdown",
   "id": "a388fd61",
   "metadata": {},
   "source": [
    "# This visualization shows distribution of percentages "
   ]
  },
  {
   "cell_type": "code",
   "execution_count": 29,
   "id": "0fcebe9c",
   "metadata": {},
   "outputs": [
    {
     "data": {
      "image/png": "[encoded data removed]",
      "text/plain": [
       "<Figure size 800x600 with 1 Axes>"
      ]
     },
     "metadata": {},
     "output_type": "display_data"
    }
   ],
   "source": [
    "plt.figure(figsize=[8, 6])\n",
    "subject_averages.plot(kind='pie', autopct='%1.1f%%', colors=['green', 'orange', 'blue', 'red', 'purple', 'yellow'])\n",
    "plt.title(\"Subject-wise Average Scores\")\n",
    "plt.ylabel('')  \n",
    "plt.show()"
   ]
  },
  {
   "cell_type": "markdown",
   "id": "98d2f095",
   "metadata": {},
   "source": [
    "# This pie chart represents the Subject-wise Average Scores in subject"
   ]
  },
  {
   "cell_type": "code",
   "execution_count": 30,
   "id": "b3c17513",
   "metadata": {},
   "outputs": [
    {
     "data": {
      "image/png": "[encoded data removed]",
      "text/plain": [
       "<Figure size 800x600 with 1 Axes>"
      ]
     },
     "metadata": {},
     "output_type": "display_data"
    }
   ],
   "source": [
    "plt.figure(figsize=[8, 6])\n",
    "average_total_by_section.plot(kind='pie', autopct='%1.1f%%', colors=['cyan', 'magenta', 'lime', 'gold', 'violet', 'darkorange'])\n",
    "plt.title(\"Subject-wise Average Scores\")\n",
    "plt.ylabel('')  \n",
    "plt.show()"
   ]
  },
  {
   "cell_type": "markdown",
   "id": "e2c16dac",
   "metadata": {},
   "source": [
    "# This pie chart represents the Subject-wise Average Scores in section wise"
   ]
  },
  {
   "cell_type": "code",
   "execution_count": 31,
   "id": "38671cf4",
   "metadata": {},
   "outputs": [
    {
     "data": {
      "image/png": "[encoded data removed]",
      "text/plain": [
       "<Figure size 800x600 with 1 Axes>"
      ]
     },
     "metadata": {},
     "output_type": "display_data"
    }
   ],
   "source": [
    "plt.figure(figsize=[8, 6])\n",
    "average_total_by_section.plot(kind='pie', autopct='%1.1f%%', colors=['cyan', 'magenta', 'lime', 'gold', 'violet', 'darkorange'])\n",
    "plt.title(\"Subject-wise Average Scores\")\n",
    "plt.ylabel('')  \n",
    "plt.show()"
   ]
  },
  {
   "cell_type": "code",
   "execution_count": 32,
   "id": "fb72ce4d",
   "metadata": {},
   "outputs": [
    {
     "data": {
      "image/png": "[encoded data removed]",
      "text/plain": [
       "<Figure size 800x500 with 1 Axes>"
      ]
     },
     "metadata": {},
     "output_type": "display_data"
    }
   ],
   "source": [
    "plt.figure(figsize=(8, 5))\n",
    "sns.scatterplot(data=df, x='DV', y='M-II', color='red')\n",
    "plt.title('Scatter Plot of Marks: DV vs M-II', fontsize=16)\n",
    "plt.xlabel('Marks in DV', fontsize=12)\n",
    "plt.ylabel('Marks in M-II', fontsize=12)\n",
    "plt.grid(True)\n",
    "plt.show()"
   ]
  },
  {
   "cell_type": "markdown",
   "id": "caefe5c0",
   "metadata": {},
   "source": [
    "# The scatter plot shows the correlation between marks in these two subjects."
   ]
  },
  {
   "cell_type": "code",
   "execution_count": 33,
   "id": "8a67ac82",
   "metadata": {},
   "outputs": [
    {
     "data": {
      "image/png": "[encoded data removed]",
      "text/plain": [
       "<Figure size 800x600 with 1 Axes>"
      ]
     },
     "metadata": {},
     "output_type": "display_data"
    }
   ],
   "source": [
    "plt.figure(figsize=(8, 6))\n",
    "sns.scatterplot(data=df, x='Total', y='Percentage', color='red', s=10)\n",
    "plt.title('Relationship Between Total Marks and Percentage', fontsize=16)\n",
    "plt.xlabel('Total Marks')\n",
    "plt.ylabel('Percentage')\n",
    "plt.show()"
   ]
  },
  {
   "cell_type": "markdown",
   "id": "3cba79ef",
   "metadata": {},
   "source": [
    "# This scatter plot examines how total marks relate to the percentage scores."
   ]
  },
  {
   "cell_type": "code",
   "execution_count": 34,
   "id": "a1500e7f",
   "metadata": {},
   "outputs": [
    {
     "data": {
      "image/png": "[encoded data removed]",
      "text/plain": [
       "<Figure size 800x600 with 1 Axes>"
      ]
     },
     "metadata": {},
     "output_type": "display_data"
    }
   ],
   "source": [
    "plt.figure(figsize=(8, 6))\n",
    "sns.scatterplot(data=df, x='PP', y='BEEE', color='green', s=100)\n",
    "plt.title('Relationship Between Marks in PP and BEEE', fontsize=16)\n",
    "plt.xlabel('Marks in PP', fontsize=12)\n",
    "plt.ylabel('Marks in BEEE', fontsize=12)\n",
    "plt.grid(True)\n",
    "plt.show()\n"
   ]
  },
  {
   "cell_type": "markdown",
   "id": "b992a1d8",
   "metadata": {},
   "source": [
    "# This scatter plot shows how marks in BEEE relate to marks in for each student."
   ]
  },
  {
   "cell_type": "code",
   "execution_count": 35,
   "id": "8b3f2f9b",
   "metadata": {},
   "outputs": [
    {
     "data": {
      "image/png": "[encoded data removed]",
      "text/plain": [
       "<Figure size 800x600 with 1 Axes>"
      ]
     },
     "metadata": {},
     "output_type": "display_data"
    }
   ],
   "source": [
    "plt.figure(figsize=[8, 6])\n",
    "plt.scatter(df['TOTAL'], df['BEEE'], color='orange', edgecolor='black')\n",
    "plt.title(\"Scatter Plot: Total Marks vs BEEE Marks\")\n",
    "plt.xlabel(\"Total Marks\")\n",
    "plt.ylabel(\"BEEE Marks\")\n",
    "plt.show()\n"
   ]
  },
  {
   "cell_type": "markdown",
   "id": "a765e67c",
   "metadata": {},
   "source": [
    "# Displays the relationship between marks in 'TOTAL MARKS' and 'BEEE'."
   ]
  },
  {
   "cell_type": "code",
   "execution_count": 36,
   "id": "65337772",
   "metadata": {},
   "outputs": [
    {
     "name": "stdout",
     "output_type": "stream",
     "text": [
      "Pass    629\n",
      "Fail     87\n",
      "Name: DV Result, dtype: int64\n"
     ]
    },
    {
     "name": "stderr",
     "output_type": "stream",
     "text": [
      "C:\\Users\\malle\\AppData\\Local\\Temp\\ipykernel_18360\\2333923314.py:2: SettingWithCopyWarning: \n",
      "A value is trying to be set on a copy of a slice from a DataFrame.\n",
      "Try using .loc[row_indexer,col_indexer] = value instead\n",
      "\n",
      "See the caveats in the documentation: https://pandas.pydata.org/pandas-docs/stable/user_guide/indexing.html#returning-a-view-versus-a-copy\n",
      "  df['DV Result'] = df['DV'].apply(lambda x: 'Pass' if x >= pass_mark else 'Fail')\n"
     ]
    }
   ],
   "source": [
    "pass_mark = 10  \n",
    "df['DV Result'] = df['DV'].apply(lambda x: 'Pass' if x >= pass_mark else 'Fail')\n",
    "pass_fail_counts = df['DV Result'].value_counts()\n",
    "print(pass_fail_counts)\n"
   ]
  },
  {
   "cell_type": "code",
   "execution_count": 37,
   "id": "f5ead812",
   "metadata": {},
   "outputs": [
    {
     "name": "stdout",
     "output_type": "stream",
     "text": [
      "Pass    525\n",
      "Fail    191\n",
      "Name: BEEE Result, dtype: int64\n"
     ]
    },
    {
     "name": "stderr",
     "output_type": "stream",
     "text": [
      "C:\\Users\\malle\\AppData\\Local\\Temp\\ipykernel_18360\\1625149508.py:2: SettingWithCopyWarning: \n",
      "A value is trying to be set on a copy of a slice from a DataFrame.\n",
      "Try using .loc[row_indexer,col_indexer] = value instead\n",
      "\n",
      "See the caveats in the documentation: https://pandas.pydata.org/pandas-docs/stable/user_guide/indexing.html#returning-a-view-versus-a-copy\n",
      "  df['BEEE Result'] = df['BEEE'].apply(lambda x: 'Pass' if x >= pass_mark else 'Fail')\n"
     ]
    }
   ],
   "source": [
    "pass_mark = 10  \n",
    "df['BEEE Result'] = df['BEEE'].apply(lambda x: 'Pass' if x >= pass_mark else 'Fail')\n",
    "pass_fail_counts = df['BEEE Result'].value_counts()\n",
    "print(pass_fail_counts)"
   ]
  },
  {
   "cell_type": "code",
   "execution_count": 38,
   "id": "5f1952d5",
   "metadata": {},
   "outputs": [
    {
     "name": "stdout",
     "output_type": "stream",
     "text": [
      "Pass    598\n",
      "Fail    118\n",
      "Name: FIMS Result, dtype: int64\n"
     ]
    },
    {
     "name": "stderr",
     "output_type": "stream",
     "text": [
      "C:\\Users\\malle\\AppData\\Local\\Temp\\ipykernel_18360\\1051717439.py:2: SettingWithCopyWarning: \n",
      "A value is trying to be set on a copy of a slice from a DataFrame.\n",
      "Try using .loc[row_indexer,col_indexer] = value instead\n",
      "\n",
      "See the caveats in the documentation: https://pandas.pydata.org/pandas-docs/stable/user_guide/indexing.html#returning-a-view-versus-a-copy\n",
      "  df['FIMS Result'] = df['FIMS'].apply(lambda x: 'Pass' if x >= pass_mark else 'Fail')\n"
     ]
    }
   ],
   "source": [
    "pass_mark = 10  \n",
    "df['FIMS Result'] = df['FIMS'].apply(lambda x: 'Pass' if x >= pass_mark else 'Fail')\n",
    "pass_fail_counts = df['FIMS Result'].value_counts()\n",
    "print(pass_fail_counts)"
   ]
  },
  {
   "cell_type": "code",
   "execution_count": 39,
   "id": "348a4739",
   "metadata": {},
   "outputs": [
    {
     "name": "stdout",
     "output_type": "stream",
     "text": [
      "Pass    503\n",
      "Fail    213\n",
      "Name: PP Result, dtype: int64\n"
     ]
    },
    {
     "name": "stderr",
     "output_type": "stream",
     "text": [
      "C:\\Users\\malle\\AppData\\Local\\Temp\\ipykernel_18360\\681086574.py:2: SettingWithCopyWarning: \n",
      "A value is trying to be set on a copy of a slice from a DataFrame.\n",
      "Try using .loc[row_indexer,col_indexer] = value instead\n",
      "\n",
      "See the caveats in the documentation: https://pandas.pydata.org/pandas-docs/stable/user_guide/indexing.html#returning-a-view-versus-a-copy\n",
      "  df['PP Result'] = df['PP'].apply(lambda x: 'Pass' if x >= pass_mark else 'Fail')\n"
     ]
    }
   ],
   "source": [
    "pass_mark = 10  \n",
    "df['PP Result'] = df['PP'].apply(lambda x: 'Pass' if x >= pass_mark else 'Fail')\n",
    "pass_fail_counts = df['PP Result'].value_counts()\n",
    "print(pass_fail_counts)"
   ]
  },
  {
   "cell_type": "code",
   "execution_count": 40,
   "id": "ca28a9f6",
   "metadata": {},
   "outputs": [
    {
     "name": "stdout",
     "output_type": "stream",
     "text": [
      "Pass    674\n",
      "Fail     42\n",
      "Name: FL Result, dtype: int64\n"
     ]
    },
    {
     "name": "stderr",
     "output_type": "stream",
     "text": [
      "C:\\Users\\malle\\AppData\\Local\\Temp\\ipykernel_18360\\1623033271.py:2: SettingWithCopyWarning: \n",
      "A value is trying to be set on a copy of a slice from a DataFrame.\n",
      "Try using .loc[row_indexer,col_indexer] = value instead\n",
      "\n",
      "See the caveats in the documentation: https://pandas.pydata.org/pandas-docs/stable/user_guide/indexing.html#returning-a-view-versus-a-copy\n",
      "  df['FL Result'] = df['FL'].apply(lambda x: 'Pass' if x >= pass_mark else 'Fail')\n"
     ]
    }
   ],
   "source": [
    "pass_mark = 10  \n",
    "df['FL Result'] = df['FL'].apply(lambda x: 'Pass' if x >= pass_mark else 'Fail')\n",
    "pass_fail_counts = df['FL Result'].value_counts()\n",
    "print(pass_fail_counts)"
   ]
  },
  {
   "cell_type": "code",
   "execution_count": 41,
   "id": "0f0b4b56",
   "metadata": {},
   "outputs": [
    {
     "name": "stdout",
     "output_type": "stream",
     "text": [
      "--- ALPHA Section: M-II Pass/Fail Counts ---\n",
      "Pass    72\n",
      "Fail    18\n",
      "Name: M-II Result, dtype: int64\n"
     ]
    }
   ],
   "source": [
    "passing_mark = 10\n",
    "alpha_section = df[df['SECTION'] == 'ALPHA'].copy()  \n",
    "alpha_section.loc[:, 'M-II'] = pd.to_numeric(alpha_section['M-II'], errors='coerce')\n",
    "alpha_section.loc[:, 'M-II Result'] = alpha_section['M-II'].apply(lambda x: 'Pass' if x >= passing_mark else 'Fail')\n",
    "alpha_mii_pass_fail_counts = alpha_section['M-II Result'].value_counts()\n",
    "print(\"--- ALPHA Section: M-II Pass/Fail Counts ---\")\n",
    "print(alpha_mii_pass_fail_counts)"
   ]
  },
  {
   "cell_type": "code",
   "execution_count": 42,
   "id": "b109b450",
   "metadata": {},
   "outputs": [
    {
     "name": "stdout",
     "output_type": "stream",
     "text": [
      "Pass    73\n",
      "Fail    17\n",
      "Name: DV Result, dtype: int64\n"
     ]
    }
   ],
   "source": [
    "passing_mark = 10\n",
    "alpha_section = df[df['SECTION'] == 'ALPHA'].copy()  \n",
    "alpha_section.loc[:, 'DV'] = pd.to_numeric(alpha_section['DV'], errors='coerce')\n",
    "alpha_section.loc[:, 'DV Result'] = alpha_section['DV'].apply(lambda x: 'Pass' if x >= passing_mark else 'Fail')\n",
    "alpha_mii_pass_fail_counts = alpha_section['DV Result'].value_counts()\n",
    "print(alpha_mii_pass_fail_counts)"
   ]
  },
  {
   "cell_type": "code",
   "execution_count": 43,
   "id": "6e53149a",
   "metadata": {},
   "outputs": [
    {
     "name": "stdout",
     "output_type": "stream",
     "text": [
      "Pass    78\n",
      "Fail    12\n",
      "Name: PP Result, dtype: int64\n"
     ]
    }
   ],
   "source": [
    "passing_mark = 10\n",
    "alpha_section = df[df['SECTION'] == 'ALPHA'].copy()  \n",
    "alpha_section.loc[:, 'PP'] = pd.to_numeric(alpha_section['PP'], errors='coerce')\n",
    "alpha_section.loc[:, 'PP Result'] = alpha_section['PP'].apply(lambda x: 'Pass' if x >= passing_mark else 'Fail')\n",
    "alpha_mii_pass_fail_counts = alpha_section['PP Result'].value_counts()\n",
    "print(alpha_mii_pass_fail_counts)"
   ]
  },
  {
   "cell_type": "code",
   "execution_count": 44,
   "id": "4ceb1d62",
   "metadata": {},
   "outputs": [
    {
     "name": "stdout",
     "output_type": "stream",
     "text": [
      "Pass    82\n",
      "Fail     8\n",
      "Name: BEEE Result, dtype: int64\n"
     ]
    }
   ],
   "source": [
    "passing_mark = 10\n",
    "alpha_section = df[df['SECTION'] == 'ALPHA'].copy()  \n",
    "alpha_section.loc[:, 'BEEE'] = pd.to_numeric(alpha_section['BEEE'], errors='coerce')\n",
    "alpha_section.loc[:, 'BEEE Result'] = alpha_section['BEEE'].apply(lambda x: 'Pass' if x >= passing_mark else 'Fail')\n",
    "alpha_mii_pass_fail_counts = alpha_section['BEEE Result'].value_counts()\n",
    "print(alpha_mii_pass_fail_counts)"
   ]
  },
  {
   "cell_type": "code",
   "execution_count": 45,
   "id": "b7e4c8d9",
   "metadata": {},
   "outputs": [
    {
     "name": "stdout",
     "output_type": "stream",
     "text": [
      "Pass    89\n",
      "Fail     1\n",
      "Name: FL Result, dtype: int64\n"
     ]
    }
   ],
   "source": [
    "passing_mark = 10\n",
    "alpha_section = df[df['SECTION'] == 'ALPHA'].copy()  \n",
    "alpha_section.loc[:, 'FL'] = pd.to_numeric(alpha_section['FL'], errors='coerce')\n",
    "alpha_section.loc[:, 'FL Result'] = alpha_section['FL'].apply(lambda x: 'Pass' if x >= passing_mark else 'Fail')\n",
    "alpha_mii_pass_fail_counts = alpha_section['FL Result'].value_counts()\n",
    "print(alpha_mii_pass_fail_counts)"
   ]
  },
  {
   "cell_type": "code",
   "execution_count": 46,
   "id": "b2eab04b",
   "metadata": {},
   "outputs": [
    {
     "name": "stdout",
     "output_type": "stream",
     "text": [
      "Pass    68\n",
      "Fail    22\n",
      "Name: FIMS Result, dtype: int64\n"
     ]
    }
   ],
   "source": [
    "passing_mark = 10\n",
    "alpha_section = df[df['SECTION'] == 'ALPHA'].copy()  \n",
    "alpha_section.loc[:, 'FIMS'] = pd.to_numeric(alpha_section['FIMS'], errors='coerce')\n",
    "alpha_section.loc[:, 'FIMS Result'] = alpha_section['FIMS'].apply(lambda x: 'Pass' if x >= passing_mark else 'Fail')\n",
    "alpha_mii_pass_fail_counts = alpha_section['FIMS Result'].value_counts()\n",
    "print(alpha_mii_pass_fail_counts)"
   ]
  },
  {
   "cell_type": "code",
   "execution_count": 47,
   "id": "a8ce5aa1",
   "metadata": {},
   "outputs": [
    {
     "name": "stdout",
     "output_type": "stream",
     "text": [
      "Pass    68\n",
      "Fail    22\n",
      "Name: FIMS Result, dtype: int64\n"
     ]
    }
   ],
   "source": [
    "passing_mark = 10\n",
    "beta_section = df[df['SECTION'] == 'BETA'].copy()  \n",
    "beta_section.loc[:, 'FIMS'] = pd.to_numeric(alpha_section['FIMS'], errors='coerce')\n",
    "beta_section.loc[:, 'FIMS Result'] = alpha_section['FIMS'].apply(lambda x: 'Pass' if x >= passing_mark else 'Fail')\n",
    "beta_mii_pass_fail_counts = alpha_section['FIMS Result'].value_counts()\n",
    "print(alpha_mii_pass_fail_counts)"
   ]
  },
  {
   "cell_type": "code",
   "execution_count": 48,
   "id": "818f2270",
   "metadata": {},
   "outputs": [
    {
     "name": "stdout",
     "output_type": "stream",
     "text": [
      "Pass    82\n",
      "Fail     8\n",
      "Name: PP Result, dtype: int64\n"
     ]
    }
   ],
   "source": [
    "passing_mark = 10\n",
    "beta_section = df[df['SECTION'] == 'BETA'].copy()  \n",
    "beta_section.loc[:, 'PP'] = pd.to_numeric(beta_section['PP'], errors='coerce')\n",
    "beta_section.loc[:, 'PP Result'] = beta_section['PP'].apply(lambda x: 'Pass' if x >= passing_mark else 'Fail')\n",
    "beta_mii_pass_fail_counts = beta_section['PP Result'].value_counts()\n",
    "print(beta_mii_pass_fail_counts)"
   ]
  },
  {
   "cell_type": "code",
   "execution_count": 49,
   "id": "8583f728",
   "metadata": {},
   "outputs": [
    {
     "name": "stdout",
     "output_type": "stream",
     "text": [
      "Pass    49\n",
      "Fail    41\n",
      "Name: BEEE Result, dtype: int64\n"
     ]
    }
   ],
   "source": [
    "passing_mark = 10\n",
    "beta_section = df[df['SECTION'] == 'BETA'].copy()  \n",
    "beta_section.loc[:, 'BEEE'] = pd.to_numeric(beta_section['BEEE'], errors='coerce')\n",
    "beta_section.loc[:, 'BEEE Result'] = beta_section['BEEE'].apply(lambda x: 'Pass' if x >= passing_mark else 'Fail')\n",
    "beta_mii_pass_fail_counts = beta_section['BEEE Result'].value_counts()\n",
    "print(beta_mii_pass_fail_counts)"
   ]
  },
  {
   "cell_type": "code",
   "execution_count": 50,
   "id": "5916c865",
   "metadata": {},
   "outputs": [
    {
     "name": "stdout",
     "output_type": "stream",
     "text": [
      "Pass    73\n",
      "Fail    17\n",
      "Name: DV Result, dtype: int64\n"
     ]
    }
   ],
   "source": [
    "passing_mark = 10\n",
    "beta_section = df[df['SECTION'] == 'BETA'].copy()  \n",
    "beta_section.loc[:, 'DV'] = pd.to_numeric(beta_section['DV'], errors='coerce')\n",
    "beta_section.loc[:, 'DV Result'] = beta_section['DV'].apply(lambda x: 'Pass' if x >= passing_mark else 'Fail')\n",
    "beta_mii_pass_fail_counts = beta_section['DV Result'].value_counts()\n",
    "print(beta_mii_pass_fail_counts)"
   ]
  },
  {
   "cell_type": "code",
   "execution_count": 51,
   "id": "2850da53",
   "metadata": {},
   "outputs": [
    {
     "name": "stdout",
     "output_type": "stream",
     "text": [
      "Pass    89\n",
      "Fail     1\n",
      "Name: FL Result, dtype: int64\n"
     ]
    }
   ],
   "source": [
    "passing_mark = 10\n",
    "beta_section = df[df['SECTION'] == 'BETA'].copy()  \n",
    "beta_section.loc[:, 'FL'] = pd.to_numeric(beta_section['FL'], errors='coerce')\n",
    "beta_section.loc[:, 'FL Result'] = beta_section['FL'].apply(lambda x: 'Pass' if x >= passing_mark else 'Fail')\n",
    "beta_mii_pass_fail_counts = beta_section['FL Result'].value_counts()\n",
    "print(beta_mii_pass_fail_counts)"
   ]
  },
  {
   "cell_type": "code",
   "execution_count": 52,
   "id": "dd94b0f6",
   "metadata": {},
   "outputs": [
    {
     "data": {
      "text/plain": [
       "0.8131868131868132"
      ]
     },
     "execution_count": 52,
     "metadata": {},
     "output_type": "execute_result"
    }
   ],
   "source": [
    "74/91"
   ]
  },
  {
   "cell_type": "code",
   "execution_count": 53,
   "id": "0948c813",
   "metadata": {},
   "outputs": [
    {
     "name": "stdout",
     "output_type": "stream",
     "text": [
      "Fail    50\n",
      "Pass    40\n",
      "Name: PP Result, dtype: int64\n"
     ]
    }
   ],
   "source": [
    "passing_mark = 10\n",
    "beta_section = df[df['SECTION'] == 'ZETA'].copy()  \n",
    "beta_section.loc[:, 'PP'] = pd.to_numeric(beta_section['PP'], errors='coerce')\n",
    "beta_section.loc[:, 'PP Result'] = beta_section['PP'].apply(lambda x: 'Pass' if x >= passing_mark else 'Fail')\n",
    "beta_mii_pass_fail_counts = beta_section['PP Result'].value_counts()\n",
    "print(beta_mii_pass_fail_counts) "
   ]
  },
  {
   "cell_type": "code",
   "execution_count": 54,
   "id": "95ed245c",
   "metadata": {},
   "outputs": [
    {
     "name": "stdout",
     "output_type": "stream",
     "text": [
      "Pass    70\n",
      "Fail    20\n",
      "Name: FIMS Result, dtype: int64\n"
     ]
    }
   ],
   "source": [
    "passing_mark = 10\n",
    "beta_section = df[df['SECTION'] == 'ZETA'].copy()  \n",
    "beta_section.loc[:, 'FIMS'] = pd.to_numeric(beta_section['FIMS'], errors='coerce')\n",
    "beta_section.loc[:, 'FIMS Result'] = beta_section['FIMS'].apply(lambda x: 'Pass' if x >= passing_mark else 'Fail')\n",
    "beta_mii_pass_fail_counts = beta_section['FIMS Result'].value_counts()\n",
    "print(beta_mii_pass_fail_counts)"
   ]
  },
  {
   "cell_type": "code",
   "execution_count": 55,
   "id": "fd697fe6",
   "metadata": {},
   "outputs": [
    {
     "name": "stdout",
     "output_type": "stream",
     "text": [
      "Pass    75\n",
      "Fail    15\n",
      "Name: FL Result, dtype: int64\n"
     ]
    }
   ],
   "source": [
    "passing_mark = 10\n",
    "beta_section = df[df['SECTION'] == 'ZETA'].copy()  \n",
    "beta_section.loc[:, 'FL'] = pd.to_numeric(beta_section['FL'], errors='coerce')\n",
    "beta_section.loc[:, 'FL Result'] = beta_section['FL'].apply(lambda x: 'Pass' if x >= passing_mark else 'Fail')\n",
    "beta_mii_pass_fail_counts = beta_section['FL Result'].value_counts()\n",
    "print(beta_mii_pass_fail_counts)"
   ]
  },
  {
   "cell_type": "code",
   "execution_count": 56,
   "id": "34bc877d",
   "metadata": {},
   "outputs": [
    {
     "name": "stdout",
     "output_type": "stream",
     "text": [
      "Fail    50\n",
      "Pass    40\n",
      "Name: PP Result, dtype: int64\n"
     ]
    }
   ],
   "source": [
    "passing_mark = 10\n",
    "beta_section = df[df['SECTION'] == 'ZETA'].copy()  \n",
    "beta_section.loc[:, 'PP'] = pd.to_numeric(beta_section['PP'], errors='coerce')\n",
    "beta_section.loc[:, 'PP Result'] = beta_section['PP'].apply(lambda x: 'Pass' if x >= passing_mark else 'Fail')\n",
    "beta_mii_pass_fail_counts = beta_section['PP Result'].value_counts()\n",
    "print(beta_mii_pass_fail_counts)"
   ]
  },
  {
   "cell_type": "code",
   "execution_count": 57,
   "id": "db748226",
   "metadata": {},
   "outputs": [
    {
     "name": "stdout",
     "output_type": "stream",
     "text": [
      "Pass    72\n",
      "Fail    18\n",
      "Name: BEEE Result, dtype: int64\n"
     ]
    }
   ],
   "source": [
    "passing_mark = 10\n",
    "beta_section = df[df['SECTION'] == 'ZETA'].copy()  \n",
    "beta_section.loc[:, 'BEEE'] = pd.to_numeric(beta_section['BEEE'], errors='coerce')\n",
    "beta_section.loc[:, 'BEEE Result'] = beta_section['BEEE'].apply(lambda x: 'Pass' if x >= passing_mark else 'Fail')\n",
    "beta_mii_pass_fail_counts = beta_section['BEEE Result'].value_counts()\n",
    "print(beta_mii_pass_fail_counts)"
   ]
  },
  {
   "cell_type": "code",
   "execution_count": 58,
   "id": "fced2aaa",
   "metadata": {},
   "outputs": [
    {
     "name": "stdout",
     "output_type": "stream",
     "text": [
      "Pass    82\n",
      "Fail     8\n",
      "Name: DV Result, dtype: int64\n"
     ]
    }
   ],
   "source": [
    "passing_mark = 10\n",
    "beta_section = df[df['SECTION'] == 'ZETA'].copy()  \n",
    "beta_section.loc[:, 'DV'] = pd.to_numeric(beta_section['DV'], errors='coerce')\n",
    "beta_section.loc[:, 'DV Result'] = beta_section['DV'].apply(lambda x: 'Pass' if x >= passing_mark else 'Fail')\n",
    "beta_mii_pass_fail_counts = beta_section['DV Result'].value_counts()\n",
    "print(beta_mii_pass_fail_counts)"
   ]
  },
  {
   "cell_type": "code",
   "execution_count": 59,
   "id": "0028e05c",
   "metadata": {},
   "outputs": [
    {
     "name": "stdout",
     "output_type": "stream",
     "text": [
      "Pass    79\n",
      "Fail    11\n",
      "Name: DV Result, dtype: int64\n"
     ]
    }
   ],
   "source": [
    "passing_mark = 10\n",
    "beta_section = df[df['SECTION'] == 'GAMMA'].copy()  \n",
    "beta_section.loc[:, 'DV'] = pd.to_numeric(beta_section['DV'], errors='coerce')\n",
    "beta_section.loc[:, 'DV Result'] = beta_section['DV'].apply(lambda x: 'Pass' if x >= passing_mark else 'Fail')\n",
    "beta_mii_pass_fail_counts = beta_section['DV Result'].value_counts()\n",
    "print(beta_mii_pass_fail_counts)"
   ]
  },
  {
   "cell_type": "code",
   "execution_count": 60,
   "id": "3b877190",
   "metadata": {},
   "outputs": [
    {
     "name": "stdout",
     "output_type": "stream",
     "text": [
      "Pass    73\n",
      "Fail    17\n",
      "Name: BEEE Result, dtype: int64\n"
     ]
    }
   ],
   "source": [
    "passing_mark = 10\n",
    "beta_section = df[df['SECTION'] == 'GAMMA'].copy()  \n",
    "beta_section.loc[:, 'BEEE'] = pd.to_numeric(beta_section['BEEE'], errors='coerce')\n",
    "beta_section.loc[:, 'BEEE Result'] = beta_section['BEEE'].apply(lambda x: 'Pass' if x >= passing_mark else 'Fail')\n",
    "beta_mii_pass_fail_counts = beta_section['BEEE Result'].value_counts()\n",
    "print(beta_mii_pass_fail_counts)"
   ]
  },
  {
   "cell_type": "code",
   "execution_count": 61,
   "id": "3864c905",
   "metadata": {},
   "outputs": [
    {
     "name": "stdout",
     "output_type": "stream",
     "text": [
      "Pass    73\n",
      "Fail    17\n",
      "Name: BEEE Result, dtype: int64\n"
     ]
    }
   ],
   "source": [
    "passing_mark = 10\n",
    "beta_section = df[df['SECTION'] == 'GAMMA'].copy()  \n",
    "beta_section.loc[:, 'BEEE'] = pd.to_numeric(beta_section['BEEE'], errors='coerce')\n",
    "beta_section.loc[:, 'BEEE Result'] = beta_section['BEEE'].apply(lambda x: 'Pass' if x >= passing_mark else 'Fail')\n",
    "beta_mii_pass_fail_counts = beta_section['BEEE Result'].value_counts()\n",
    "print(beta_mii_pass_fail_counts)"
   ]
  },
  {
   "cell_type": "code",
   "execution_count": 62,
   "id": "3a5b3fef",
   "metadata": {},
   "outputs": [
    {
     "name": "stdout",
     "output_type": "stream",
     "text": [
      "Pass    54\n",
      "Fail    36\n",
      "Name: PP Result, dtype: int64\n"
     ]
    }
   ],
   "source": [
    "passing_mark = 10\n",
    "beta_section = df[df['SECTION'] == 'GAMMA'].copy()  \n",
    "beta_section.loc[:, 'PP'] = pd.to_numeric(beta_section['PP'], errors='coerce')\n",
    "beta_section.loc[:, 'PP Result'] = beta_section['PP'].apply(lambda x: 'Pass' if x >= passing_mark else 'Fail')\n",
    "beta_mii_pass_fail_counts = beta_section['PP Result'].value_counts()\n",
    "print(beta_mii_pass_fail_counts)"
   ]
  },
  {
   "cell_type": "code",
   "execution_count": 63,
   "id": "1b19e60a",
   "metadata": {},
   "outputs": [
    {
     "name": "stdout",
     "output_type": "stream",
     "text": [
      "Fail    46\n",
      "Pass    44\n",
      "Name: M-II Result, dtype: int64\n"
     ]
    }
   ],
   "source": [
    "passing_mark = 10\n",
    "alpha_section = df[df['SECTION'] == 'GAMMA'].copy()  \n",
    "alpha_section.loc[:, 'M-II'] = pd.to_numeric(alpha_section['M-II'], errors='coerce')\n",
    "alpha_section.loc[:, 'M-II Result'] = alpha_section['M-II'].apply(lambda x: 'Pass' if x >= passing_mark else 'Fail')\n",
    "alpha_mii_pass_fail_counts = alpha_section['M-II Result'].value_counts()\n",
    "print(alpha_mii_pass_fail_counts)"
   ]
  },
  {
   "cell_type": "code",
   "execution_count": 64,
   "id": "a7b0029a",
   "metadata": {},
   "outputs": [
    {
     "name": "stdout",
     "output_type": "stream",
     "text": [
      "Pass    60\n",
      "Fail    28\n",
      "Name: M-II Result, dtype: int64\n"
     ]
    }
   ],
   "source": [
    "passing_mark = 10\n",
    "alpha_section = df[df['SECTION'] == 'SIGMA'].copy()  \n",
    "alpha_section.loc[:, 'M-II'] = pd.to_numeric(alpha_section['M-II'], errors='coerce')\n",
    "alpha_section.loc[:, 'M-II Result'] = alpha_section['M-II'].apply(lambda x: 'Pass' if x >= passing_mark else 'Fail')\n",
    "alpha_mii_pass_fail_counts = alpha_section['M-II Result'].value_counts()\n",
    "print(alpha_mii_pass_fail_counts)"
   ]
  },
  {
   "cell_type": "code",
   "execution_count": 65,
   "id": "0d26db6e",
   "metadata": {},
   "outputs": [
    {
     "name": "stdout",
     "output_type": "stream",
     "text": [
      "Series([], Name: PP Result, dtype: int64)\n"
     ]
    }
   ],
   "source": [
    "passing_mark = 10\n",
    "beta_section = df[df['SECTION'] == ' '].copy()  \n",
    "beta_section.loc[:, 'PP'] = pd.to_numeric(beta_section['PP'], errors='coerce')\n",
    "beta_section.loc[:, 'PP Result'] = beta_section['PP'].apply(lambda x: 'Pass' if x >= passing_mark else 'Fail')\n",
    "beta_mii_pass_fail_counts = beta_section['PP Result'].value_counts()\n",
    "print(beta_mii_pass_fail_counts)"
   ]
  },
  {
   "cell_type": "code",
   "execution_count": 66,
   "id": "5261dc26",
   "metadata": {},
   "outputs": [
    {
     "name": "stdout",
     "output_type": "stream",
     "text": [
      "<class 'pandas.core.frame.DataFrame'>\n",
      "Int64Index: 716 entries, 0 to 717\n",
      "Data columns (total 16 columns):\n",
      " #   Column       Non-Null Count  Dtype  \n",
      "---  ------       --------------  -----  \n",
      " 0   S.NO         716 non-null    int64  \n",
      " 1   SECTION      716 non-null    object \n",
      " 2   DV           716 non-null    float64\n",
      " 3   M-II         716 non-null    float64\n",
      " 4   PP           716 non-null    float64\n",
      " 5   BEEE         716 non-null    float64\n",
      " 6   FL           716 non-null    float64\n",
      " 7   FIMS         716 non-null    float64\n",
      " 8   TOTAL        716 non-null    float64\n",
      " 9   Total        716 non-null    float64\n",
      " 10  Percentage   716 non-null    float64\n",
      " 11  DV Result    716 non-null    object \n",
      " 12  BEEE Result  716 non-null    object \n",
      " 13  FIMS Result  716 non-null    object \n",
      " 14  PP Result    716 non-null    object \n",
      " 15  FL Result    716 non-null    object \n",
      "dtypes: float64(9), int64(1), object(6)\n",
      "memory usage: 95.1+ KB\n"
     ]
    }
   ],
   "source": [
    "df.info()"
   ]
  },
  {
   "cell_type": "code",
   "execution_count": 67,
   "id": "64a8bd71",
   "metadata": {},
   "outputs": [
    {
     "data": {
      "text/html": [
       "<div>\n",
       "<style scoped>\n",
       "    .dataframe tbody tr th:only-of-type {\n",
       "        vertical-align: middle;\n",
       "    }\n",
       "\n",
       "    .dataframe tbody tr th {\n",
       "        vertical-align: top;\n",
       "    }\n",
       "\n",
       "    .dataframe thead th {\n",
       "        text-align: right;\n",
       "    }\n",
       "</style>\n",
       "<table border=\"1\" class=\"dataframe\">\n",
       "  <thead>\n",
       "    <tr style=\"text-align: right;\">\n",
       "      <th></th>\n",
       "      <th>S.NO</th>\n",
       "      <th>SECTION</th>\n",
       "      <th>DV</th>\n",
       "      <th>M-II</th>\n",
       "      <th>PP</th>\n",
       "      <th>BEEE</th>\n",
       "      <th>FL</th>\n",
       "      <th>FIMS</th>\n",
       "      <th>TOTAL</th>\n",
       "      <th>Total</th>\n",
       "      <th>Percentage</th>\n",
       "      <th>DV Result</th>\n",
       "      <th>BEEE Result</th>\n",
       "      <th>FIMS Result</th>\n",
       "      <th>PP Result</th>\n",
       "      <th>FL Result</th>\n",
       "    </tr>\n",
       "  </thead>\n",
       "  <tbody>\n",
       "    <tr>\n",
       "      <th>0</th>\n",
       "      <td>1</td>\n",
       "      <td>ALPHA</td>\n",
       "      <td>12.0</td>\n",
       "      <td>0.0</td>\n",
       "      <td>17.0</td>\n",
       "      <td>9.0</td>\n",
       "      <td>19.0</td>\n",
       "      <td>15.0</td>\n",
       "      <td>72.0</td>\n",
       "      <td>72.0</td>\n",
       "      <td>12.000000</td>\n",
       "      <td>Pass</td>\n",
       "      <td>Fail</td>\n",
       "      <td>Pass</td>\n",
       "      <td>Pass</td>\n",
       "      <td>Pass</td>\n",
       "    </tr>\n",
       "    <tr>\n",
       "      <th>1</th>\n",
       "      <td>2</td>\n",
       "      <td>ALPHA</td>\n",
       "      <td>19.0</td>\n",
       "      <td>12.0</td>\n",
       "      <td>16.0</td>\n",
       "      <td>16.0</td>\n",
       "      <td>18.0</td>\n",
       "      <td>3.0</td>\n",
       "      <td>84.0</td>\n",
       "      <td>84.0</td>\n",
       "      <td>14.000000</td>\n",
       "      <td>Pass</td>\n",
       "      <td>Pass</td>\n",
       "      <td>Fail</td>\n",
       "      <td>Pass</td>\n",
       "      <td>Pass</td>\n",
       "    </tr>\n",
       "    <tr>\n",
       "      <th>2</th>\n",
       "      <td>3</td>\n",
       "      <td>ALPHA</td>\n",
       "      <td>18.0</td>\n",
       "      <td>14.0</td>\n",
       "      <td>18.0</td>\n",
       "      <td>18.0</td>\n",
       "      <td>18.0</td>\n",
       "      <td>16.0</td>\n",
       "      <td>102.0</td>\n",
       "      <td>102.0</td>\n",
       "      <td>17.000000</td>\n",
       "      <td>Pass</td>\n",
       "      <td>Pass</td>\n",
       "      <td>Pass</td>\n",
       "      <td>Pass</td>\n",
       "      <td>Pass</td>\n",
       "    </tr>\n",
       "    <tr>\n",
       "      <th>3</th>\n",
       "      <td>4</td>\n",
       "      <td>ALPHA</td>\n",
       "      <td>15.0</td>\n",
       "      <td>9.0</td>\n",
       "      <td>19.0</td>\n",
       "      <td>17.0</td>\n",
       "      <td>19.0</td>\n",
       "      <td>15.0</td>\n",
       "      <td>94.0</td>\n",
       "      <td>94.0</td>\n",
       "      <td>15.666667</td>\n",
       "      <td>Pass</td>\n",
       "      <td>Pass</td>\n",
       "      <td>Pass</td>\n",
       "      <td>Pass</td>\n",
       "      <td>Pass</td>\n",
       "    </tr>\n",
       "    <tr>\n",
       "      <th>4</th>\n",
       "      <td>5</td>\n",
       "      <td>ALPHA</td>\n",
       "      <td>18.0</td>\n",
       "      <td>17.0</td>\n",
       "      <td>19.0</td>\n",
       "      <td>19.0</td>\n",
       "      <td>20.0</td>\n",
       "      <td>18.0</td>\n",
       "      <td>111.0</td>\n",
       "      <td>111.0</td>\n",
       "      <td>18.500000</td>\n",
       "      <td>Pass</td>\n",
       "      <td>Pass</td>\n",
       "      <td>Pass</td>\n",
       "      <td>Pass</td>\n",
       "      <td>Pass</td>\n",
       "    </tr>\n",
       "    <tr>\n",
       "      <th>...</th>\n",
       "      <td>...</td>\n",
       "      <td>...</td>\n",
       "      <td>...</td>\n",
       "      <td>...</td>\n",
       "      <td>...</td>\n",
       "      <td>...</td>\n",
       "      <td>...</td>\n",
       "      <td>...</td>\n",
       "      <td>...</td>\n",
       "      <td>...</td>\n",
       "      <td>...</td>\n",
       "      <td>...</td>\n",
       "      <td>...</td>\n",
       "      <td>...</td>\n",
       "      <td>...</td>\n",
       "      <td>...</td>\n",
       "    </tr>\n",
       "    <tr>\n",
       "      <th>85</th>\n",
       "      <td>86</td>\n",
       "      <td>ALPHA</td>\n",
       "      <td>3.0</td>\n",
       "      <td>4.0</td>\n",
       "      <td>14.0</td>\n",
       "      <td>13.0</td>\n",
       "      <td>18.0</td>\n",
       "      <td>13.0</td>\n",
       "      <td>65.0</td>\n",
       "      <td>65.0</td>\n",
       "      <td>10.833333</td>\n",
       "      <td>Fail</td>\n",
       "      <td>Pass</td>\n",
       "      <td>Pass</td>\n",
       "      <td>Pass</td>\n",
       "      <td>Pass</td>\n",
       "    </tr>\n",
       "    <tr>\n",
       "      <th>86</th>\n",
       "      <td>87</td>\n",
       "      <td>ALPHA</td>\n",
       "      <td>17.0</td>\n",
       "      <td>18.0</td>\n",
       "      <td>19.0</td>\n",
       "      <td>20.0</td>\n",
       "      <td>20.0</td>\n",
       "      <td>18.0</td>\n",
       "      <td>112.0</td>\n",
       "      <td>112.0</td>\n",
       "      <td>18.666667</td>\n",
       "      <td>Pass</td>\n",
       "      <td>Pass</td>\n",
       "      <td>Pass</td>\n",
       "      <td>Pass</td>\n",
       "      <td>Pass</td>\n",
       "    </tr>\n",
       "    <tr>\n",
       "      <th>87</th>\n",
       "      <td>88</td>\n",
       "      <td>ALPHA</td>\n",
       "      <td>13.0</td>\n",
       "      <td>17.0</td>\n",
       "      <td>14.0</td>\n",
       "      <td>19.0</td>\n",
       "      <td>15.0</td>\n",
       "      <td>17.0</td>\n",
       "      <td>95.0</td>\n",
       "      <td>95.0</td>\n",
       "      <td>15.833333</td>\n",
       "      <td>Pass</td>\n",
       "      <td>Pass</td>\n",
       "      <td>Pass</td>\n",
       "      <td>Pass</td>\n",
       "      <td>Pass</td>\n",
       "    </tr>\n",
       "    <tr>\n",
       "      <th>88</th>\n",
       "      <td>89</td>\n",
       "      <td>ALPHA</td>\n",
       "      <td>2.0</td>\n",
       "      <td>17.0</td>\n",
       "      <td>0.0</td>\n",
       "      <td>3.0</td>\n",
       "      <td>15.0</td>\n",
       "      <td>2.0</td>\n",
       "      <td>39.0</td>\n",
       "      <td>39.0</td>\n",
       "      <td>6.500000</td>\n",
       "      <td>Fail</td>\n",
       "      <td>Fail</td>\n",
       "      <td>Fail</td>\n",
       "      <td>Fail</td>\n",
       "      <td>Pass</td>\n",
       "    </tr>\n",
       "    <tr>\n",
       "      <th>89</th>\n",
       "      <td>90</td>\n",
       "      <td>ALPHA</td>\n",
       "      <td>10.0</td>\n",
       "      <td>6.0</td>\n",
       "      <td>15.0</td>\n",
       "      <td>10.0</td>\n",
       "      <td>15.0</td>\n",
       "      <td>10.0</td>\n",
       "      <td>66.0</td>\n",
       "      <td>66.0</td>\n",
       "      <td>11.000000</td>\n",
       "      <td>Pass</td>\n",
       "      <td>Pass</td>\n",
       "      <td>Pass</td>\n",
       "      <td>Pass</td>\n",
       "      <td>Pass</td>\n",
       "    </tr>\n",
       "  </tbody>\n",
       "</table>\n",
       "<p>90 rows × 16 columns</p>\n",
       "</div>"
      ],
      "text/plain": [
       "    S.NO SECTION    DV  M-II    PP  BEEE    FL  FIMS  TOTAL  Total  \\\n",
       "0      1   ALPHA  12.0   0.0  17.0   9.0  19.0  15.0   72.0   72.0   \n",
       "1      2   ALPHA  19.0  12.0  16.0  16.0  18.0   3.0   84.0   84.0   \n",
       "2      3   ALPHA  18.0  14.0  18.0  18.0  18.0  16.0  102.0  102.0   \n",
       "3      4   ALPHA  15.0   9.0  19.0  17.0  19.0  15.0   94.0   94.0   \n",
       "4      5   ALPHA  18.0  17.0  19.0  19.0  20.0  18.0  111.0  111.0   \n",
       "..   ...     ...   ...   ...   ...   ...   ...   ...    ...    ...   \n",
       "85    86   ALPHA   3.0   4.0  14.0  13.0  18.0  13.0   65.0   65.0   \n",
       "86    87   ALPHA  17.0  18.0  19.0  20.0  20.0  18.0  112.0  112.0   \n",
       "87    88   ALPHA  13.0  17.0  14.0  19.0  15.0  17.0   95.0   95.0   \n",
       "88    89   ALPHA   2.0  17.0   0.0   3.0  15.0   2.0   39.0   39.0   \n",
       "89    90   ALPHA  10.0   6.0  15.0  10.0  15.0  10.0   66.0   66.0   \n",
       "\n",
       "    Percentage DV Result BEEE Result FIMS Result PP Result FL Result  \n",
       "0    12.000000      Pass        Fail        Pass      Pass      Pass  \n",
       "1    14.000000      Pass        Pass        Fail      Pass      Pass  \n",
       "2    17.000000      Pass        Pass        Pass      Pass      Pass  \n",
       "3    15.666667      Pass        Pass        Pass      Pass      Pass  \n",
       "4    18.500000      Pass        Pass        Pass      Pass      Pass  \n",
       "..         ...       ...         ...         ...       ...       ...  \n",
       "85   10.833333      Fail        Pass        Pass      Pass      Pass  \n",
       "86   18.666667      Pass        Pass        Pass      Pass      Pass  \n",
       "87   15.833333      Pass        Pass        Pass      Pass      Pass  \n",
       "88    6.500000      Fail        Fail        Fail      Fail      Pass  \n",
       "89   11.000000      Pass        Pass        Pass      Pass      Pass  \n",
       "\n",
       "[90 rows x 16 columns]"
      ]
     },
     "execution_count": 67,
     "metadata": {},
     "output_type": "execute_result"
    }
   ],
   "source": [
    "a=df[df[\"SECTION\"]==\"ALPHA\"]\n",
    "a"
   ]
  },
  {
   "cell_type": "code",
   "execution_count": 68,
   "id": "58351b98",
   "metadata": {},
   "outputs": [
    {
     "data": {
      "text/plain": [
       "13.411111111111111"
      ]
     },
     "execution_count": 68,
     "metadata": {},
     "output_type": "execute_result"
    }
   ],
   "source": [
    "a[\"DV\"].mean()"
   ]
  },
  {
   "cell_type": "code",
   "execution_count": 69,
   "id": "2da638d0",
   "metadata": {},
   "outputs": [
    {
     "name": "stderr",
     "output_type": "stream",
     "text": [
      "C:\\Users\\malle\\AppData\\Local\\Temp\\ipykernel_18360\\475094170.py:1: FutureWarning: The default value of numeric_only in DataFrameGroupBy.std is deprecated. In a future version, numeric_only will default to False. Either specify numeric_only or select only columns which should be valid for the function.\n",
      "  std_data=df.groupby(['SECTION']).std()\n"
     ]
    },
    {
     "data": {
      "text/html": [
       "<div>\n",
       "<style scoped>\n",
       "    .dataframe tbody tr th:only-of-type {\n",
       "        vertical-align: middle;\n",
       "    }\n",
       "\n",
       "    .dataframe tbody tr th {\n",
       "        vertical-align: top;\n",
       "    }\n",
       "\n",
       "    .dataframe thead th {\n",
       "        text-align: right;\n",
       "    }\n",
       "</style>\n",
       "<table border=\"1\" class=\"dataframe\">\n",
       "  <thead>\n",
       "    <tr style=\"text-align: right;\">\n",
       "      <th></th>\n",
       "      <th>S.NO</th>\n",
       "      <th>DV</th>\n",
       "      <th>M-II</th>\n",
       "      <th>PP</th>\n",
       "      <th>BEEE</th>\n",
       "      <th>FL</th>\n",
       "      <th>FIMS</th>\n",
       "      <th>TOTAL</th>\n",
       "      <th>Total</th>\n",
       "      <th>Percentage</th>\n",
       "    </tr>\n",
       "    <tr>\n",
       "      <th>SECTION</th>\n",
       "      <th></th>\n",
       "      <th></th>\n",
       "      <th></th>\n",
       "      <th></th>\n",
       "      <th></th>\n",
       "      <th></th>\n",
       "      <th></th>\n",
       "      <th></th>\n",
       "      <th></th>\n",
       "      <th></th>\n",
       "    </tr>\n",
       "  </thead>\n",
       "  <tbody>\n",
       "    <tr>\n",
       "      <th>ALPHA</th>\n",
       "      <td>26.124701</td>\n",
       "      <td>4.991891</td>\n",
       "      <td>5.595432</td>\n",
       "      <td>5.343903</td>\n",
       "      <td>4.803037</td>\n",
       "      <td>3.808854</td>\n",
       "      <td>4.498314</td>\n",
       "      <td>23.435357</td>\n",
       "      <td>23.435357</td>\n",
       "      <td>3.905893</td>\n",
       "    </tr>\n",
       "    <tr>\n",
       "      <th>BETA</th>\n",
       "      <td>26.124701</td>\n",
       "      <td>3.815992</td>\n",
       "      <td>5.517750</td>\n",
       "      <td>4.251768</td>\n",
       "      <td>5.146311</td>\n",
       "      <td>3.818870</td>\n",
       "      <td>3.200811</td>\n",
       "      <td>18.773906</td>\n",
       "      <td>18.773906</td>\n",
       "      <td>3.128984</td>\n",
       "    </tr>\n",
       "    <tr>\n",
       "      <th>DELTA</th>\n",
       "      <td>26.124701</td>\n",
       "      <td>4.308862</td>\n",
       "      <td>6.385113</td>\n",
       "      <td>5.634919</td>\n",
       "      <td>5.694786</td>\n",
       "      <td>4.143795</td>\n",
       "      <td>3.798219</td>\n",
       "      <td>24.909985</td>\n",
       "      <td>24.909985</td>\n",
       "      <td>4.151664</td>\n",
       "    </tr>\n",
       "    <tr>\n",
       "      <th>EPSILON</th>\n",
       "      <td>25.547342</td>\n",
       "      <td>3.295587</td>\n",
       "      <td>6.010256</td>\n",
       "      <td>4.309293</td>\n",
       "      <td>4.949853</td>\n",
       "      <td>4.216948</td>\n",
       "      <td>4.745949</td>\n",
       "      <td>22.677732</td>\n",
       "      <td>22.677732</td>\n",
       "      <td>3.779622</td>\n",
       "    </tr>\n",
       "    <tr>\n",
       "      <th>GAMMA</th>\n",
       "      <td>26.124701</td>\n",
       "      <td>4.998639</td>\n",
       "      <td>6.258916</td>\n",
       "      <td>5.694030</td>\n",
       "      <td>5.854979</td>\n",
       "      <td>3.913245</td>\n",
       "      <td>4.709660</td>\n",
       "      <td>26.713966</td>\n",
       "      <td>26.713966</td>\n",
       "      <td>4.452328</td>\n",
       "    </tr>\n",
       "    <tr>\n",
       "      <th>OMEGA</th>\n",
       "      <td>26.124701</td>\n",
       "      <td>5.097060</td>\n",
       "      <td>6.375515</td>\n",
       "      <td>5.906946</td>\n",
       "      <td>6.179393</td>\n",
       "      <td>5.514944</td>\n",
       "      <td>5.081471</td>\n",
       "      <td>29.013613</td>\n",
       "      <td>29.013613</td>\n",
       "      <td>4.835602</td>\n",
       "    </tr>\n",
       "    <tr>\n",
       "      <th>SIGMA</th>\n",
       "      <td>26.273976</td>\n",
       "      <td>4.687296</td>\n",
       "      <td>6.723685</td>\n",
       "      <td>5.380749</td>\n",
       "      <td>5.663858</td>\n",
       "      <td>4.141691</td>\n",
       "      <td>4.795940</td>\n",
       "      <td>26.854320</td>\n",
       "      <td>26.854320</td>\n",
       "      <td>4.475720</td>\n",
       "    </tr>\n",
       "    <tr>\n",
       "      <th>ZETA</th>\n",
       "      <td>26.124701</td>\n",
       "      <td>3.876061</td>\n",
       "      <td>6.252899</td>\n",
       "      <td>4.251885</td>\n",
       "      <td>5.255388</td>\n",
       "      <td>5.696046</td>\n",
       "      <td>4.645766</td>\n",
       "      <td>24.780457</td>\n",
       "      <td>24.780457</td>\n",
       "      <td>4.130076</td>\n",
       "    </tr>\n",
       "  </tbody>\n",
       "</table>\n",
       "</div>"
      ],
      "text/plain": [
       "              S.NO        DV      M-II        PP      BEEE        FL  \\\n",
       "SECTION                                                                \n",
       "ALPHA    26.124701  4.991891  5.595432  5.343903  4.803037  3.808854   \n",
       "BETA     26.124701  3.815992  5.517750  4.251768  5.146311  3.818870   \n",
       "DELTA    26.124701  4.308862  6.385113  5.634919  5.694786  4.143795   \n",
       "EPSILON  25.547342  3.295587  6.010256  4.309293  4.949853  4.216948   \n",
       "GAMMA    26.124701  4.998639  6.258916  5.694030  5.854979  3.913245   \n",
       "OMEGA    26.124701  5.097060  6.375515  5.906946  6.179393  5.514944   \n",
       "SIGMA    26.273976  4.687296  6.723685  5.380749  5.663858  4.141691   \n",
       "ZETA     26.124701  3.876061  6.252899  4.251885  5.255388  5.696046   \n",
       "\n",
       "             FIMS      TOTAL      Total  Percentage  \n",
       "SECTION                                              \n",
       "ALPHA    4.498314  23.435357  23.435357    3.905893  \n",
       "BETA     3.200811  18.773906  18.773906    3.128984  \n",
       "DELTA    3.798219  24.909985  24.909985    4.151664  \n",
       "EPSILON  4.745949  22.677732  22.677732    3.779622  \n",
       "GAMMA    4.709660  26.713966  26.713966    4.452328  \n",
       "OMEGA    5.081471  29.013613  29.013613    4.835602  \n",
       "SIGMA    4.795940  26.854320  26.854320    4.475720  \n",
       "ZETA     4.645766  24.780457  24.780457    4.130076  "
      ]
     },
     "execution_count": 69,
     "metadata": {},
     "output_type": "execute_result"
    }
   ],
   "source": [
    "std_data=df.groupby(['SECTION']).std()\n",
    "std_data"
   ]
  },
  {
   "cell_type": "code",
   "execution_count": 70,
   "id": "22b5a5cf",
   "metadata": {},
   "outputs": [
    {
     "name": "stderr",
     "output_type": "stream",
     "text": [
      "C:\\Users\\malle\\AppData\\Local\\Temp\\ipykernel_18360\\468889722.py:1: FutureWarning: The default value of numeric_only in DataFrameGroupBy.mean is deprecated. In a future version, numeric_only will default to False. Either specify numeric_only or select only columns which should be valid for the function.\n",
      "  aggretad=df.groupby(['SECTION']).mean()\n"
     ]
    },
    {
     "data": {
      "text/html": [
       "<div>\n",
       "<style scoped>\n",
       "    .dataframe tbody tr th:only-of-type {\n",
       "        vertical-align: middle;\n",
       "    }\n",
       "\n",
       "    .dataframe tbody tr th {\n",
       "        vertical-align: top;\n",
       "    }\n",
       "\n",
       "    .dataframe thead th {\n",
       "        text-align: right;\n",
       "    }\n",
       "</style>\n",
       "<table border=\"1\" class=\"dataframe\">\n",
       "  <thead>\n",
       "    <tr style=\"text-align: right;\">\n",
       "      <th></th>\n",
       "      <th>S.NO</th>\n",
       "      <th>DV</th>\n",
       "      <th>M-II</th>\n",
       "      <th>PP</th>\n",
       "      <th>BEEE</th>\n",
       "      <th>FL</th>\n",
       "      <th>FIMS</th>\n",
       "      <th>TOTAL</th>\n",
       "      <th>Total</th>\n",
       "      <th>Percentage</th>\n",
       "    </tr>\n",
       "    <tr>\n",
       "      <th>SECTION</th>\n",
       "      <th></th>\n",
       "      <th></th>\n",
       "      <th></th>\n",
       "      <th></th>\n",
       "      <th></th>\n",
       "      <th></th>\n",
       "      <th></th>\n",
       "      <th></th>\n",
       "      <th></th>\n",
       "      <th></th>\n",
       "    </tr>\n",
       "  </thead>\n",
       "  <tbody>\n",
       "    <tr>\n",
       "      <th>ALPHA</th>\n",
       "      <td>45.5</td>\n",
       "      <td>13.411111</td>\n",
       "      <td>13.711111</td>\n",
       "      <td>15.933333</td>\n",
       "      <td>15.622222</td>\n",
       "      <td>16.177778</td>\n",
       "      <td>12.700000</td>\n",
       "      <td>87.555556</td>\n",
       "      <td>87.555556</td>\n",
       "      <td>14.592593</td>\n",
       "    </tr>\n",
       "    <tr>\n",
       "      <th>BETA</th>\n",
       "      <td>135.5</td>\n",
       "      <td>13.000000</td>\n",
       "      <td>12.122222</td>\n",
       "      <td>15.966667</td>\n",
       "      <td>10.855556</td>\n",
       "      <td>15.977778</td>\n",
       "      <td>14.044444</td>\n",
       "      <td>81.966667</td>\n",
       "      <td>81.966667</td>\n",
       "      <td>13.661111</td>\n",
       "    </tr>\n",
       "    <tr>\n",
       "      <th>DELTA</th>\n",
       "      <td>225.5</td>\n",
       "      <td>13.866667</td>\n",
       "      <td>9.500000</td>\n",
       "      <td>12.422222</td>\n",
       "      <td>9.455556</td>\n",
       "      <td>14.555556</td>\n",
       "      <td>16.577778</td>\n",
       "      <td>76.377778</td>\n",
       "      <td>76.377778</td>\n",
       "      <td>12.729630</td>\n",
       "    </tr>\n",
       "    <tr>\n",
       "      <th>EPSILON</th>\n",
       "      <td>314.5</td>\n",
       "      <td>15.215909</td>\n",
       "      <td>6.693182</td>\n",
       "      <td>8.568182</td>\n",
       "      <td>14.431818</td>\n",
       "      <td>15.318182</td>\n",
       "      <td>12.068182</td>\n",
       "      <td>72.295455</td>\n",
       "      <td>72.295455</td>\n",
       "      <td>12.049242</td>\n",
       "    </tr>\n",
       "    <tr>\n",
       "      <th>GAMMA</th>\n",
       "      <td>403.5</td>\n",
       "      <td>14.811111</td>\n",
       "      <td>9.288889</td>\n",
       "      <td>10.777778</td>\n",
       "      <td>14.788889</td>\n",
       "      <td>15.633333</td>\n",
       "      <td>12.433333</td>\n",
       "      <td>77.733333</td>\n",
       "      <td>77.733333</td>\n",
       "      <td>12.955556</td>\n",
       "    </tr>\n",
       "    <tr>\n",
       "      <th>OMEGA</th>\n",
       "      <td>493.5</td>\n",
       "      <td>16.555556</td>\n",
       "      <td>8.266667</td>\n",
       "      <td>14.611111</td>\n",
       "      <td>13.522222</td>\n",
       "      <td>15.633333</td>\n",
       "      <td>15.100000</td>\n",
       "      <td>83.688889</td>\n",
       "      <td>83.688889</td>\n",
       "      <td>13.948148</td>\n",
       "    </tr>\n",
       "    <tr>\n",
       "      <th>SIGMA</th>\n",
       "      <td>583.5</td>\n",
       "      <td>16.227273</td>\n",
       "      <td>12.818182</td>\n",
       "      <td>14.613636</td>\n",
       "      <td>13.215909</td>\n",
       "      <td>16.136364</td>\n",
       "      <td>15.818182</td>\n",
       "      <td>88.829545</td>\n",
       "      <td>88.829545</td>\n",
       "      <td>14.804924</td>\n",
       "    </tr>\n",
       "    <tr>\n",
       "      <th>ZETA</th>\n",
       "      <td>673.5</td>\n",
       "      <td>15.255556</td>\n",
       "      <td>7.188889</td>\n",
       "      <td>9.211111</td>\n",
       "      <td>14.433333</td>\n",
       "      <td>14.933333</td>\n",
       "      <td>13.633333</td>\n",
       "      <td>74.655556</td>\n",
       "      <td>74.655556</td>\n",
       "      <td>12.442593</td>\n",
       "    </tr>\n",
       "  </tbody>\n",
       "</table>\n",
       "</div>"
      ],
      "text/plain": [
       "          S.NO         DV       M-II         PP       BEEE         FL  \\\n",
       "SECTION                                                                 \n",
       "ALPHA     45.5  13.411111  13.711111  15.933333  15.622222  16.177778   \n",
       "BETA     135.5  13.000000  12.122222  15.966667  10.855556  15.977778   \n",
       "DELTA    225.5  13.866667   9.500000  12.422222   9.455556  14.555556   \n",
       "EPSILON  314.5  15.215909   6.693182   8.568182  14.431818  15.318182   \n",
       "GAMMA    403.5  14.811111   9.288889  10.777778  14.788889  15.633333   \n",
       "OMEGA    493.5  16.555556   8.266667  14.611111  13.522222  15.633333   \n",
       "SIGMA    583.5  16.227273  12.818182  14.613636  13.215909  16.136364   \n",
       "ZETA     673.5  15.255556   7.188889   9.211111  14.433333  14.933333   \n",
       "\n",
       "              FIMS      TOTAL      Total  Percentage  \n",
       "SECTION                                               \n",
       "ALPHA    12.700000  87.555556  87.555556   14.592593  \n",
       "BETA     14.044444  81.966667  81.966667   13.661111  \n",
       "DELTA    16.577778  76.377778  76.377778   12.729630  \n",
       "EPSILON  12.068182  72.295455  72.295455   12.049242  \n",
       "GAMMA    12.433333  77.733333  77.733333   12.955556  \n",
       "OMEGA    15.100000  83.688889  83.688889   13.948148  \n",
       "SIGMA    15.818182  88.829545  88.829545   14.804924  \n",
       "ZETA     13.633333  74.655556  74.655556   12.442593  "
      ]
     },
     "execution_count": 70,
     "metadata": {},
     "output_type": "execute_result"
    }
   ],
   "source": [
    "aggretad=df.groupby(['SECTION']).mean()\n",
    "aggretad"
   ]
  },
  {
   "cell_type": "code",
   "execution_count": 71,
   "id": "fd3d7427",
   "metadata": {},
   "outputs": [
    {
     "data": {
      "text/plain": [
       "(716, 16)"
      ]
     },
     "execution_count": 71,
     "metadata": {},
     "output_type": "execute_result"
    }
   ],
   "source": [
    "df.shape"
   ]
  },
  {
   "cell_type": "code",
   "execution_count": 72,
   "id": "b4f0e96c",
   "metadata": {},
   "outputs": [
    {
     "data": {
      "text/plain": [
       "S.NO          26.124701\n",
       "DV             4.991891\n",
       "M-II           5.595432\n",
       "PP             5.343903\n",
       "BEEE           4.803037\n",
       "FL             3.808854\n",
       "FIMS           4.498314\n",
       "TOTAL         23.435357\n",
       "Total         23.435357\n",
       "Percentage     3.905893\n",
       "dtype: float64"
      ]
     },
     "execution_count": 72,
     "metadata": {},
     "output_type": "execute_result"
    }
   ],
   "source": [
    "df[df[\"SECTION\"] == \"ALPHA\"].std(numeric_only=True)"
   ]
  },
  {
   "cell_type": "code",
   "execution_count": null,
   "id": "2215720c",
   "metadata": {},
   "outputs": [],
   "source": []
  },
  {
   "cell_type": "code",
   "execution_count": 73,
   "id": "f06c85d4",
   "metadata": {},
   "outputs": [
    {
     "data": {
      "text/plain": [
       "(716, 16)"
      ]
     },
     "execution_count": 73,
     "metadata": {},
     "output_type": "execute_result"
    }
   ],
   "source": [
    "df.shape"
   ]
  },
  {
   "cell_type": "code",
   "execution_count": 74,
   "id": "d208a07f",
   "metadata": {},
   "outputs": [
    {
     "name": "stdout",
     "output_type": "stream",
     "text": [
      "<class 'pandas.core.frame.DataFrame'>\n",
      "Int64Index: 716 entries, 0 to 717\n",
      "Data columns (total 16 columns):\n",
      " #   Column       Non-Null Count  Dtype  \n",
      "---  ------       --------------  -----  \n",
      " 0   S.NO         716 non-null    int64  \n",
      " 1   SECTION      716 non-null    object \n",
      " 2   DV           716 non-null    float64\n",
      " 3   M-II         716 non-null    float64\n",
      " 4   PP           716 non-null    float64\n",
      " 5   BEEE         716 non-null    float64\n",
      " 6   FL           716 non-null    float64\n",
      " 7   FIMS         716 non-null    float64\n",
      " 8   TOTAL        716 non-null    float64\n",
      " 9   Total        716 non-null    float64\n",
      " 10  Percentage   716 non-null    float64\n",
      " 11  DV Result    716 non-null    object \n",
      " 12  BEEE Result  716 non-null    object \n",
      " 13  FIMS Result  716 non-null    object \n",
      " 14  PP Result    716 non-null    object \n",
      " 15  FL Result    716 non-null    object \n",
      "dtypes: float64(9), int64(1), object(6)\n",
      "memory usage: 95.1+ KB\n"
     ]
    }
   ],
   "source": [
    "df.info()"
   ]
  },
  {
   "cell_type": "code",
   "execution_count": null,
   "id": "fee3f53b",
   "metadata": {},
   "outputs": [],
   "source": []
  },
  {
   "cell_type": "code",
   "execution_count": 75,
   "id": "c270ecde",
   "metadata": {},
   "outputs": [
    {
     "name": "stdout",
     "output_type": "stream",
     "text": [
      "<class 'pandas.core.frame.DataFrame'>\n",
      "Int64Index: 716 entries, 0 to 717\n",
      "Data columns (total 16 columns):\n",
      " #   Column       Non-Null Count  Dtype  \n",
      "---  ------       --------------  -----  \n",
      " 0   S.NO         716 non-null    int64  \n",
      " 1   SECTION      716 non-null    object \n",
      " 2   DV           716 non-null    float64\n",
      " 3   M-II         716 non-null    float64\n",
      " 4   PP           716 non-null    float64\n",
      " 5   BEEE         716 non-null    float64\n",
      " 6   FL           716 non-null    float64\n",
      " 7   FIMS         716 non-null    float64\n",
      " 8   TOTAL        716 non-null    float64\n",
      " 9   Total        716 non-null    float64\n",
      " 10  Percentage   716 non-null    float64\n",
      " 11  DV Result    716 non-null    object \n",
      " 12  BEEE Result  716 non-null    object \n",
      " 13  FIMS Result  716 non-null    object \n",
      " 14  PP Result    716 non-null    object \n",
      " 15  FL Result    716 non-null    object \n",
      "dtypes: float64(9), int64(1), object(6)\n",
      "memory usage: 95.1+ KB\n"
     ]
    }
   ],
   "source": [
    "df.info()"
   ]
  },
  {
   "cell_type": "code",
   "execution_count": null,
   "id": "4caee585",
   "metadata": {},
   "outputs": [],
   "source": []
  },
  {
   "cell_type": "code",
   "execution_count": null,
   "id": "0860a55b",
   "metadata": {},
   "outputs": [],
   "source": []
  },
  {
   "cell_type": "code",
   "execution_count": 76,
   "id": "96f3aab1",
   "metadata": {},
   "outputs": [
    {
     "name": "stdout",
     "output_type": "stream",
     "text": [
      "<class 'pandas.core.frame.DataFrame'>\n",
      "Int64Index: 716 entries, 0 to 717\n",
      "Data columns (total 16 columns):\n",
      " #   Column       Non-Null Count  Dtype  \n",
      "---  ------       --------------  -----  \n",
      " 0   S.NO         716 non-null    int64  \n",
      " 1   SECTION      716 non-null    object \n",
      " 2   DV           716 non-null    float64\n",
      " 3   M-II         716 non-null    float64\n",
      " 4   PP           716 non-null    float64\n",
      " 5   BEEE         716 non-null    float64\n",
      " 6   FL           716 non-null    float64\n",
      " 7   FIMS         716 non-null    float64\n",
      " 8   TOTAL        716 non-null    float64\n",
      " 9   Total        716 non-null    float64\n",
      " 10  Percentage   716 non-null    float64\n",
      " 11  DV Result    716 non-null    object \n",
      " 12  BEEE Result  716 non-null    object \n",
      " 13  FIMS Result  716 non-null    object \n",
      " 14  PP Result    716 non-null    object \n",
      " 15  FL Result    716 non-null    object \n",
      "dtypes: float64(9), int64(1), object(6)\n",
      "memory usage: 95.1+ KB\n"
     ]
    }
   ],
   "source": [
    "df.info()"
   ]
  },
  {
   "cell_type": "code",
   "execution_count": 77,
   "id": "e0f336af",
   "metadata": {},
   "outputs": [
    {
     "name": "stderr",
     "output_type": "stream",
     "text": [
      "C:\\Users\\malle\\AppData\\Local\\Temp\\ipykernel_18360\\1840477511.py:1: SettingWithCopyWarning: \n",
      "A value is trying to be set on a copy of a slice from a DataFrame.\n",
      "Try using .loc[row_indexer,col_indexer] = value instead\n",
      "\n",
      "See the caveats in the documentation: https://pandas.pydata.org/pandas-docs/stable/user_guide/indexing.html#returning-a-view-versus-a-copy\n",
      "  df['SECTION'] = df['SECTION'].fillna('SIGMA')\n",
      "C:\\Users\\malle\\AppData\\Local\\Temp\\ipykernel_18360\\1840477511.py:2: SettingWithCopyWarning: \n",
      "A value is trying to be set on a copy of a slice from a DataFrame.\n",
      "Try using .loc[row_indexer,col_indexer] = value instead\n",
      "\n",
      "See the caveats in the documentation: https://pandas.pydata.org/pandas-docs/stable/user_guide/indexing.html#returning-a-view-versus-a-copy\n",
      "  df['SECTION'] = df['SECTION'].replace('', 'SIGMA')\n"
     ]
    },
    {
     "data": {
      "text/html": [
       "<div>\n",
       "<style scoped>\n",
       "    .dataframe tbody tr th:only-of-type {\n",
       "        vertical-align: middle;\n",
       "    }\n",
       "\n",
       "    .dataframe tbody tr th {\n",
       "        vertical-align: top;\n",
       "    }\n",
       "\n",
       "    .dataframe thead th {\n",
       "        text-align: right;\n",
       "    }\n",
       "</style>\n",
       "<table border=\"1\" class=\"dataframe\">\n",
       "  <thead>\n",
       "    <tr style=\"text-align: right;\">\n",
       "      <th></th>\n",
       "      <th>S.NO</th>\n",
       "      <th>SECTION</th>\n",
       "      <th>DV</th>\n",
       "      <th>M-II</th>\n",
       "      <th>PP</th>\n",
       "      <th>BEEE</th>\n",
       "      <th>FL</th>\n",
       "      <th>FIMS</th>\n",
       "      <th>TOTAL</th>\n",
       "      <th>Total</th>\n",
       "      <th>Percentage</th>\n",
       "      <th>DV Result</th>\n",
       "      <th>BEEE Result</th>\n",
       "      <th>FIMS Result</th>\n",
       "      <th>PP Result</th>\n",
       "      <th>FL Result</th>\n",
       "    </tr>\n",
       "  </thead>\n",
       "  <tbody>\n",
       "    <tr>\n",
       "      <th>0</th>\n",
       "      <td>1</td>\n",
       "      <td>ALPHA</td>\n",
       "      <td>12.0</td>\n",
       "      <td>0.0</td>\n",
       "      <td>17.0</td>\n",
       "      <td>9.0</td>\n",
       "      <td>19.0</td>\n",
       "      <td>15.0</td>\n",
       "      <td>72.0</td>\n",
       "      <td>72.0</td>\n",
       "      <td>12.000000</td>\n",
       "      <td>Pass</td>\n",
       "      <td>Fail</td>\n",
       "      <td>Pass</td>\n",
       "      <td>Pass</td>\n",
       "      <td>Pass</td>\n",
       "    </tr>\n",
       "    <tr>\n",
       "      <th>1</th>\n",
       "      <td>2</td>\n",
       "      <td>ALPHA</td>\n",
       "      <td>19.0</td>\n",
       "      <td>12.0</td>\n",
       "      <td>16.0</td>\n",
       "      <td>16.0</td>\n",
       "      <td>18.0</td>\n",
       "      <td>3.0</td>\n",
       "      <td>84.0</td>\n",
       "      <td>84.0</td>\n",
       "      <td>14.000000</td>\n",
       "      <td>Pass</td>\n",
       "      <td>Pass</td>\n",
       "      <td>Fail</td>\n",
       "      <td>Pass</td>\n",
       "      <td>Pass</td>\n",
       "    </tr>\n",
       "    <tr>\n",
       "      <th>2</th>\n",
       "      <td>3</td>\n",
       "      <td>ALPHA</td>\n",
       "      <td>18.0</td>\n",
       "      <td>14.0</td>\n",
       "      <td>18.0</td>\n",
       "      <td>18.0</td>\n",
       "      <td>18.0</td>\n",
       "      <td>16.0</td>\n",
       "      <td>102.0</td>\n",
       "      <td>102.0</td>\n",
       "      <td>17.000000</td>\n",
       "      <td>Pass</td>\n",
       "      <td>Pass</td>\n",
       "      <td>Pass</td>\n",
       "      <td>Pass</td>\n",
       "      <td>Pass</td>\n",
       "    </tr>\n",
       "    <tr>\n",
       "      <th>3</th>\n",
       "      <td>4</td>\n",
       "      <td>ALPHA</td>\n",
       "      <td>15.0</td>\n",
       "      <td>9.0</td>\n",
       "      <td>19.0</td>\n",
       "      <td>17.0</td>\n",
       "      <td>19.0</td>\n",
       "      <td>15.0</td>\n",
       "      <td>94.0</td>\n",
       "      <td>94.0</td>\n",
       "      <td>15.666667</td>\n",
       "      <td>Pass</td>\n",
       "      <td>Pass</td>\n",
       "      <td>Pass</td>\n",
       "      <td>Pass</td>\n",
       "      <td>Pass</td>\n",
       "    </tr>\n",
       "    <tr>\n",
       "      <th>4</th>\n",
       "      <td>5</td>\n",
       "      <td>ALPHA</td>\n",
       "      <td>18.0</td>\n",
       "      <td>17.0</td>\n",
       "      <td>19.0</td>\n",
       "      <td>19.0</td>\n",
       "      <td>20.0</td>\n",
       "      <td>18.0</td>\n",
       "      <td>111.0</td>\n",
       "      <td>111.0</td>\n",
       "      <td>18.500000</td>\n",
       "      <td>Pass</td>\n",
       "      <td>Pass</td>\n",
       "      <td>Pass</td>\n",
       "      <td>Pass</td>\n",
       "      <td>Pass</td>\n",
       "    </tr>\n",
       "    <tr>\n",
       "      <th>...</th>\n",
       "      <td>...</td>\n",
       "      <td>...</td>\n",
       "      <td>...</td>\n",
       "      <td>...</td>\n",
       "      <td>...</td>\n",
       "      <td>...</td>\n",
       "      <td>...</td>\n",
       "      <td>...</td>\n",
       "      <td>...</td>\n",
       "      <td>...</td>\n",
       "      <td>...</td>\n",
       "      <td>...</td>\n",
       "      <td>...</td>\n",
       "      <td>...</td>\n",
       "      <td>...</td>\n",
       "      <td>...</td>\n",
       "    </tr>\n",
       "    <tr>\n",
       "      <th>713</th>\n",
       "      <td>714</td>\n",
       "      <td>ZETA</td>\n",
       "      <td>19.0</td>\n",
       "      <td>8.0</td>\n",
       "      <td>8.0</td>\n",
       "      <td>19.0</td>\n",
       "      <td>17.0</td>\n",
       "      <td>18.0</td>\n",
       "      <td>89.0</td>\n",
       "      <td>89.0</td>\n",
       "      <td>14.833333</td>\n",
       "      <td>Pass</td>\n",
       "      <td>Pass</td>\n",
       "      <td>Pass</td>\n",
       "      <td>Fail</td>\n",
       "      <td>Pass</td>\n",
       "    </tr>\n",
       "    <tr>\n",
       "      <th>714</th>\n",
       "      <td>715</td>\n",
       "      <td>ZETA</td>\n",
       "      <td>12.0</td>\n",
       "      <td>1.0</td>\n",
       "      <td>7.0</td>\n",
       "      <td>10.0</td>\n",
       "      <td>20.0</td>\n",
       "      <td>8.0</td>\n",
       "      <td>58.0</td>\n",
       "      <td>58.0</td>\n",
       "      <td>9.666667</td>\n",
       "      <td>Pass</td>\n",
       "      <td>Pass</td>\n",
       "      <td>Fail</td>\n",
       "      <td>Fail</td>\n",
       "      <td>Pass</td>\n",
       "    </tr>\n",
       "    <tr>\n",
       "      <th>715</th>\n",
       "      <td>716</td>\n",
       "      <td>ZETA</td>\n",
       "      <td>17.0</td>\n",
       "      <td>6.0</td>\n",
       "      <td>14.0</td>\n",
       "      <td>14.0</td>\n",
       "      <td>17.0</td>\n",
       "      <td>18.0</td>\n",
       "      <td>86.0</td>\n",
       "      <td>86.0</td>\n",
       "      <td>14.333333</td>\n",
       "      <td>Pass</td>\n",
       "      <td>Pass</td>\n",
       "      <td>Pass</td>\n",
       "      <td>Pass</td>\n",
       "      <td>Pass</td>\n",
       "    </tr>\n",
       "    <tr>\n",
       "      <th>716</th>\n",
       "      <td>717</td>\n",
       "      <td>ZETA</td>\n",
       "      <td>12.0</td>\n",
       "      <td>1.0</td>\n",
       "      <td>6.0</td>\n",
       "      <td>7.0</td>\n",
       "      <td>15.0</td>\n",
       "      <td>12.0</td>\n",
       "      <td>53.0</td>\n",
       "      <td>53.0</td>\n",
       "      <td>8.833333</td>\n",
       "      <td>Pass</td>\n",
       "      <td>Fail</td>\n",
       "      <td>Pass</td>\n",
       "      <td>Fail</td>\n",
       "      <td>Pass</td>\n",
       "    </tr>\n",
       "    <tr>\n",
       "      <th>717</th>\n",
       "      <td>718</td>\n",
       "      <td>ZETA</td>\n",
       "      <td>19.0</td>\n",
       "      <td>14.0</td>\n",
       "      <td>17.0</td>\n",
       "      <td>16.0</td>\n",
       "      <td>20.0</td>\n",
       "      <td>19.0</td>\n",
       "      <td>105.0</td>\n",
       "      <td>105.0</td>\n",
       "      <td>17.500000</td>\n",
       "      <td>Pass</td>\n",
       "      <td>Pass</td>\n",
       "      <td>Pass</td>\n",
       "      <td>Pass</td>\n",
       "      <td>Pass</td>\n",
       "    </tr>\n",
       "  </tbody>\n",
       "</table>\n",
       "<p>716 rows × 16 columns</p>\n",
       "</div>"
      ],
      "text/plain": [
       "     S.NO SECTION    DV  M-II    PP  BEEE    FL  FIMS  TOTAL  Total  \\\n",
       "0       1   ALPHA  12.0   0.0  17.0   9.0  19.0  15.0   72.0   72.0   \n",
       "1       2   ALPHA  19.0  12.0  16.0  16.0  18.0   3.0   84.0   84.0   \n",
       "2       3   ALPHA  18.0  14.0  18.0  18.0  18.0  16.0  102.0  102.0   \n",
       "3       4   ALPHA  15.0   9.0  19.0  17.0  19.0  15.0   94.0   94.0   \n",
       "4       5   ALPHA  18.0  17.0  19.0  19.0  20.0  18.0  111.0  111.0   \n",
       "..    ...     ...   ...   ...   ...   ...   ...   ...    ...    ...   \n",
       "713   714    ZETA  19.0   8.0   8.0  19.0  17.0  18.0   89.0   89.0   \n",
       "714   715    ZETA  12.0   1.0   7.0  10.0  20.0   8.0   58.0   58.0   \n",
       "715   716    ZETA  17.0   6.0  14.0  14.0  17.0  18.0   86.0   86.0   \n",
       "716   717    ZETA  12.0   1.0   6.0   7.0  15.0  12.0   53.0   53.0   \n",
       "717   718    ZETA  19.0  14.0  17.0  16.0  20.0  19.0  105.0  105.0   \n",
       "\n",
       "     Percentage DV Result BEEE Result FIMS Result PP Result FL Result  \n",
       "0     12.000000      Pass        Fail        Pass      Pass      Pass  \n",
       "1     14.000000      Pass        Pass        Fail      Pass      Pass  \n",
       "2     17.000000      Pass        Pass        Pass      Pass      Pass  \n",
       "3     15.666667      Pass        Pass        Pass      Pass      Pass  \n",
       "4     18.500000      Pass        Pass        Pass      Pass      Pass  \n",
       "..          ...       ...         ...         ...       ...       ...  \n",
       "713   14.833333      Pass        Pass        Pass      Fail      Pass  \n",
       "714    9.666667      Pass        Pass        Fail      Fail      Pass  \n",
       "715   14.333333      Pass        Pass        Pass      Pass      Pass  \n",
       "716    8.833333      Pass        Fail        Pass      Fail      Pass  \n",
       "717   17.500000      Pass        Pass        Pass      Pass      Pass  \n",
       "\n",
       "[716 rows x 16 columns]"
      ]
     },
     "execution_count": 77,
     "metadata": {},
     "output_type": "execute_result"
    }
   ],
   "source": [
    "df['SECTION'] = df['SECTION'].fillna('SIGMA') \n",
    "df['SECTION'] = df['SECTION'].replace('', 'SIGMA')\n",
    "df"
   ]
  },
  {
   "cell_type": "code",
   "execution_count": 78,
   "id": "a6fa1ae4",
   "metadata": {},
   "outputs": [
    {
     "name": "stderr",
     "output_type": "stream",
     "text": [
      "C:\\Users\\malle\\AppData\\Local\\Temp\\ipykernel_18360\\1412173193.py:1: SettingWithCopyWarning: \n",
      "A value is trying to be set on a copy of a slice from a DataFrame.\n",
      "Try using .loc[row_indexer,col_indexer] = value instead\n",
      "\n",
      "See the caveats in the documentation: https://pandas.pydata.org/pandas-docs/stable/user_guide/indexing.html#returning-a-view-versus-a-copy\n",
      "  df['S.NO'] = range(1, len(df) + 1)\n"
     ]
    },
    {
     "data": {
      "text/html": [
       "<div>\n",
       "<style scoped>\n",
       "    .dataframe tbody tr th:only-of-type {\n",
       "        vertical-align: middle;\n",
       "    }\n",
       "\n",
       "    .dataframe tbody tr th {\n",
       "        vertical-align: top;\n",
       "    }\n",
       "\n",
       "    .dataframe thead th {\n",
       "        text-align: right;\n",
       "    }\n",
       "</style>\n",
       "<table border=\"1\" class=\"dataframe\">\n",
       "  <thead>\n",
       "    <tr style=\"text-align: right;\">\n",
       "      <th></th>\n",
       "      <th>S.NO</th>\n",
       "      <th>SECTION</th>\n",
       "      <th>DV</th>\n",
       "      <th>M-II</th>\n",
       "      <th>PP</th>\n",
       "      <th>BEEE</th>\n",
       "      <th>FL</th>\n",
       "      <th>FIMS</th>\n",
       "      <th>TOTAL</th>\n",
       "      <th>Total</th>\n",
       "      <th>Percentage</th>\n",
       "      <th>DV Result</th>\n",
       "      <th>BEEE Result</th>\n",
       "      <th>FIMS Result</th>\n",
       "      <th>PP Result</th>\n",
       "      <th>FL Result</th>\n",
       "    </tr>\n",
       "  </thead>\n",
       "  <tbody>\n",
       "    <tr>\n",
       "      <th>0</th>\n",
       "      <td>1</td>\n",
       "      <td>ALPHA</td>\n",
       "      <td>12.0</td>\n",
       "      <td>0.0</td>\n",
       "      <td>17.0</td>\n",
       "      <td>9.0</td>\n",
       "      <td>19.0</td>\n",
       "      <td>15.0</td>\n",
       "      <td>72.0</td>\n",
       "      <td>72.0</td>\n",
       "      <td>12.000000</td>\n",
       "      <td>Pass</td>\n",
       "      <td>Fail</td>\n",
       "      <td>Pass</td>\n",
       "      <td>Pass</td>\n",
       "      <td>Pass</td>\n",
       "    </tr>\n",
       "    <tr>\n",
       "      <th>1</th>\n",
       "      <td>2</td>\n",
       "      <td>ALPHA</td>\n",
       "      <td>19.0</td>\n",
       "      <td>12.0</td>\n",
       "      <td>16.0</td>\n",
       "      <td>16.0</td>\n",
       "      <td>18.0</td>\n",
       "      <td>3.0</td>\n",
       "      <td>84.0</td>\n",
       "      <td>84.0</td>\n",
       "      <td>14.000000</td>\n",
       "      <td>Pass</td>\n",
       "      <td>Pass</td>\n",
       "      <td>Fail</td>\n",
       "      <td>Pass</td>\n",
       "      <td>Pass</td>\n",
       "    </tr>\n",
       "    <tr>\n",
       "      <th>2</th>\n",
       "      <td>3</td>\n",
       "      <td>ALPHA</td>\n",
       "      <td>18.0</td>\n",
       "      <td>14.0</td>\n",
       "      <td>18.0</td>\n",
       "      <td>18.0</td>\n",
       "      <td>18.0</td>\n",
       "      <td>16.0</td>\n",
       "      <td>102.0</td>\n",
       "      <td>102.0</td>\n",
       "      <td>17.000000</td>\n",
       "      <td>Pass</td>\n",
       "      <td>Pass</td>\n",
       "      <td>Pass</td>\n",
       "      <td>Pass</td>\n",
       "      <td>Pass</td>\n",
       "    </tr>\n",
       "    <tr>\n",
       "      <th>3</th>\n",
       "      <td>4</td>\n",
       "      <td>ALPHA</td>\n",
       "      <td>15.0</td>\n",
       "      <td>9.0</td>\n",
       "      <td>19.0</td>\n",
       "      <td>17.0</td>\n",
       "      <td>19.0</td>\n",
       "      <td>15.0</td>\n",
       "      <td>94.0</td>\n",
       "      <td>94.0</td>\n",
       "      <td>15.666667</td>\n",
       "      <td>Pass</td>\n",
       "      <td>Pass</td>\n",
       "      <td>Pass</td>\n",
       "      <td>Pass</td>\n",
       "      <td>Pass</td>\n",
       "    </tr>\n",
       "    <tr>\n",
       "      <th>4</th>\n",
       "      <td>5</td>\n",
       "      <td>ALPHA</td>\n",
       "      <td>18.0</td>\n",
       "      <td>17.0</td>\n",
       "      <td>19.0</td>\n",
       "      <td>19.0</td>\n",
       "      <td>20.0</td>\n",
       "      <td>18.0</td>\n",
       "      <td>111.0</td>\n",
       "      <td>111.0</td>\n",
       "      <td>18.500000</td>\n",
       "      <td>Pass</td>\n",
       "      <td>Pass</td>\n",
       "      <td>Pass</td>\n",
       "      <td>Pass</td>\n",
       "      <td>Pass</td>\n",
       "    </tr>\n",
       "    <tr>\n",
       "      <th>...</th>\n",
       "      <td>...</td>\n",
       "      <td>...</td>\n",
       "      <td>...</td>\n",
       "      <td>...</td>\n",
       "      <td>...</td>\n",
       "      <td>...</td>\n",
       "      <td>...</td>\n",
       "      <td>...</td>\n",
       "      <td>...</td>\n",
       "      <td>...</td>\n",
       "      <td>...</td>\n",
       "      <td>...</td>\n",
       "      <td>...</td>\n",
       "      <td>...</td>\n",
       "      <td>...</td>\n",
       "      <td>...</td>\n",
       "    </tr>\n",
       "    <tr>\n",
       "      <th>713</th>\n",
       "      <td>712</td>\n",
       "      <td>ZETA</td>\n",
       "      <td>19.0</td>\n",
       "      <td>8.0</td>\n",
       "      <td>8.0</td>\n",
       "      <td>19.0</td>\n",
       "      <td>17.0</td>\n",
       "      <td>18.0</td>\n",
       "      <td>89.0</td>\n",
       "      <td>89.0</td>\n",
       "      <td>14.833333</td>\n",
       "      <td>Pass</td>\n",
       "      <td>Pass</td>\n",
       "      <td>Pass</td>\n",
       "      <td>Fail</td>\n",
       "      <td>Pass</td>\n",
       "    </tr>\n",
       "    <tr>\n",
       "      <th>714</th>\n",
       "      <td>713</td>\n",
       "      <td>ZETA</td>\n",
       "      <td>12.0</td>\n",
       "      <td>1.0</td>\n",
       "      <td>7.0</td>\n",
       "      <td>10.0</td>\n",
       "      <td>20.0</td>\n",
       "      <td>8.0</td>\n",
       "      <td>58.0</td>\n",
       "      <td>58.0</td>\n",
       "      <td>9.666667</td>\n",
       "      <td>Pass</td>\n",
       "      <td>Pass</td>\n",
       "      <td>Fail</td>\n",
       "      <td>Fail</td>\n",
       "      <td>Pass</td>\n",
       "    </tr>\n",
       "    <tr>\n",
       "      <th>715</th>\n",
       "      <td>714</td>\n",
       "      <td>ZETA</td>\n",
       "      <td>17.0</td>\n",
       "      <td>6.0</td>\n",
       "      <td>14.0</td>\n",
       "      <td>14.0</td>\n",
       "      <td>17.0</td>\n",
       "      <td>18.0</td>\n",
       "      <td>86.0</td>\n",
       "      <td>86.0</td>\n",
       "      <td>14.333333</td>\n",
       "      <td>Pass</td>\n",
       "      <td>Pass</td>\n",
       "      <td>Pass</td>\n",
       "      <td>Pass</td>\n",
       "      <td>Pass</td>\n",
       "    </tr>\n",
       "    <tr>\n",
       "      <th>716</th>\n",
       "      <td>715</td>\n",
       "      <td>ZETA</td>\n",
       "      <td>12.0</td>\n",
       "      <td>1.0</td>\n",
       "      <td>6.0</td>\n",
       "      <td>7.0</td>\n",
       "      <td>15.0</td>\n",
       "      <td>12.0</td>\n",
       "      <td>53.0</td>\n",
       "      <td>53.0</td>\n",
       "      <td>8.833333</td>\n",
       "      <td>Pass</td>\n",
       "      <td>Fail</td>\n",
       "      <td>Pass</td>\n",
       "      <td>Fail</td>\n",
       "      <td>Pass</td>\n",
       "    </tr>\n",
       "    <tr>\n",
       "      <th>717</th>\n",
       "      <td>716</td>\n",
       "      <td>ZETA</td>\n",
       "      <td>19.0</td>\n",
       "      <td>14.0</td>\n",
       "      <td>17.0</td>\n",
       "      <td>16.0</td>\n",
       "      <td>20.0</td>\n",
       "      <td>19.0</td>\n",
       "      <td>105.0</td>\n",
       "      <td>105.0</td>\n",
       "      <td>17.500000</td>\n",
       "      <td>Pass</td>\n",
       "      <td>Pass</td>\n",
       "      <td>Pass</td>\n",
       "      <td>Pass</td>\n",
       "      <td>Pass</td>\n",
       "    </tr>\n",
       "  </tbody>\n",
       "</table>\n",
       "<p>716 rows × 16 columns</p>\n",
       "</div>"
      ],
      "text/plain": [
       "     S.NO SECTION    DV  M-II    PP  BEEE    FL  FIMS  TOTAL  Total  \\\n",
       "0       1   ALPHA  12.0   0.0  17.0   9.0  19.0  15.0   72.0   72.0   \n",
       "1       2   ALPHA  19.0  12.0  16.0  16.0  18.0   3.0   84.0   84.0   \n",
       "2       3   ALPHA  18.0  14.0  18.0  18.0  18.0  16.0  102.0  102.0   \n",
       "3       4   ALPHA  15.0   9.0  19.0  17.0  19.0  15.0   94.0   94.0   \n",
       "4       5   ALPHA  18.0  17.0  19.0  19.0  20.0  18.0  111.0  111.0   \n",
       "..    ...     ...   ...   ...   ...   ...   ...   ...    ...    ...   \n",
       "713   712    ZETA  19.0   8.0   8.0  19.0  17.0  18.0   89.0   89.0   \n",
       "714   713    ZETA  12.0   1.0   7.0  10.0  20.0   8.0   58.0   58.0   \n",
       "715   714    ZETA  17.0   6.0  14.0  14.0  17.0  18.0   86.0   86.0   \n",
       "716   715    ZETA  12.0   1.0   6.0   7.0  15.0  12.0   53.0   53.0   \n",
       "717   716    ZETA  19.0  14.0  17.0  16.0  20.0  19.0  105.0  105.0   \n",
       "\n",
       "     Percentage DV Result BEEE Result FIMS Result PP Result FL Result  \n",
       "0     12.000000      Pass        Fail        Pass      Pass      Pass  \n",
       "1     14.000000      Pass        Pass        Fail      Pass      Pass  \n",
       "2     17.000000      Pass        Pass        Pass      Pass      Pass  \n",
       "3     15.666667      Pass        Pass        Pass      Pass      Pass  \n",
       "4     18.500000      Pass        Pass        Pass      Pass      Pass  \n",
       "..          ...       ...         ...         ...       ...       ...  \n",
       "713   14.833333      Pass        Pass        Pass      Fail      Pass  \n",
       "714    9.666667      Pass        Pass        Fail      Fail      Pass  \n",
       "715   14.333333      Pass        Pass        Pass      Pass      Pass  \n",
       "716    8.833333      Pass        Fail        Pass      Fail      Pass  \n",
       "717   17.500000      Pass        Pass        Pass      Pass      Pass  \n",
       "\n",
       "[716 rows x 16 columns]"
      ]
     },
     "execution_count": 78,
     "metadata": {},
     "output_type": "execute_result"
    }
   ],
   "source": [
    "df['S.NO'] = range(1, len(df) + 1)\n",
    "df"
   ]
  },
  {
   "cell_type": "code",
   "execution_count": 79,
   "id": "2d406590",
   "metadata": {},
   "outputs": [
    {
     "name": "stdout",
     "output_type": "stream",
     "text": [
      "<class 'pandas.core.frame.DataFrame'>\n",
      "Int64Index: 716 entries, 0 to 717\n",
      "Data columns (total 16 columns):\n",
      " #   Column       Non-Null Count  Dtype  \n",
      "---  ------       --------------  -----  \n",
      " 0   S.NO         716 non-null    int64  \n",
      " 1   SECTION      716 non-null    object \n",
      " 2   DV           716 non-null    float64\n",
      " 3   M-II         716 non-null    float64\n",
      " 4   PP           716 non-null    float64\n",
      " 5   BEEE         716 non-null    float64\n",
      " 6   FL           716 non-null    float64\n",
      " 7   FIMS         716 non-null    float64\n",
      " 8   TOTAL        716 non-null    float64\n",
      " 9   Total        716 non-null    float64\n",
      " 10  Percentage   716 non-null    float64\n",
      " 11  DV Result    716 non-null    object \n",
      " 12  BEEE Result  716 non-null    object \n",
      " 13  FIMS Result  716 non-null    object \n",
      " 14  PP Result    716 non-null    object \n",
      " 15  FL Result    716 non-null    object \n",
      "dtypes: float64(9), int64(1), object(6)\n",
      "memory usage: 95.1+ KB\n"
     ]
    }
   ],
   "source": [
    "df.info()"
   ]
  },
  {
   "cell_type": "code",
   "execution_count": 80,
   "id": "49753f55",
   "metadata": {},
   "outputs": [],
   "source": [
    "from scipy.stats import ttest_ind"
   ]
  },
  {
   "cell_type": "code",
   "execution_count": 81,
   "id": "53c14995",
   "metadata": {},
   "outputs": [
    {
     "data": {
      "text/plain": [
       "0     12.0\n",
       "1     19.0\n",
       "2     18.0\n",
       "3     15.0\n",
       "4     18.0\n",
       "      ... \n",
       "85     3.0\n",
       "86    17.0\n",
       "87    13.0\n",
       "88     2.0\n",
       "89    10.0\n",
       "Name: DV, Length: 90, dtype: float64"
      ]
     },
     "execution_count": 81,
     "metadata": {},
     "output_type": "execute_result"
    }
   ],
   "source": [
    "df[df['SECTION']=='ALPHA']['DV']"
   ]
  },
  {
   "cell_type": "code",
   "execution_count": 82,
   "id": "3673aade",
   "metadata": {},
   "outputs": [
    {
     "data": {
      "text/plain": [
       "Ttest_indResult(statistic=0.6207084248259586, pvalue=0.5355854399866022)"
      ]
     },
     "execution_count": 82,
     "metadata": {},
     "output_type": "execute_result"
    }
   ],
   "source": [
    "ttest_ind(df[df['SECTION']=='ALPHA']['DV'],df[df['SECTION']=='BETA']['DV'])"
   ]
  },
  {
   "cell_type": "code",
   "execution_count": 83,
   "id": "1f6d3747",
   "metadata": {},
   "outputs": [
    {
     "data": {
      "text/plain": [
       "ALPHA      90\n",
       "BETA       90\n",
       "DELTA      90\n",
       "GAMMA      90\n",
       "OMEGA      90\n",
       "ZETA       90\n",
       "EPSILON    88\n",
       "SIGMA      88\n",
       "Name: SECTION, dtype: int64"
      ]
     },
     "execution_count": 83,
     "metadata": {},
     "output_type": "execute_result"
    }
   ],
   "source": [
    "df['SECTION'].value_counts()"
   ]
  },
  {
   "cell_type": "code",
   "execution_count": 84,
   "id": "ba5b50bd",
   "metadata": {},
   "outputs": [
    {
     "data": {
      "text/plain": [
       "Ttest_indResult(statistic=0.6207084248259586, pvalue=0.5355854399866022)"
      ]
     },
     "execution_count": 84,
     "metadata": {},
     "output_type": "execute_result"
    }
   ],
   "source": [
    "ttest_ind(df[df['SECTION']=='ALPHA']['DV'],df[df['SECTION']=='BETA']['DV'])"
   ]
  },
  {
   "cell_type": "code",
   "execution_count": 85,
   "id": "f769f5a1",
   "metadata": {},
   "outputs": [],
   "source": [
    "from scipy.stats import ttest_rel"
   ]
  },
  {
   "cell_type": "code",
   "execution_count": 86,
   "id": "5a92740e",
   "metadata": {},
   "outputs": [
    {
     "data": {
      "text/plain": [
       "TtestResult(statistic=0.6677896583545824, pvalue=0.5059958752914141, df=89)"
      ]
     },
     "execution_count": 86,
     "metadata": {},
     "output_type": "execute_result"
    }
   ],
   "source": [
    "ttest_rel(df[df['SECTION']=='ALPHA']['DV'],df[df['SECTION']=='BETA']['DV'])"
   ]
  },
  {
   "cell_type": "code",
   "execution_count": 87,
   "id": "711d404b",
   "metadata": {},
   "outputs": [],
   "source": [
    "from scipy.stats import chi2_contingency"
   ]
  },
  {
   "cell_type": "code",
   "execution_count": 88,
   "id": "27881bff",
   "metadata": {},
   "outputs": [],
   "source": [
    "data=[df[df['SECTION']=='ALPHA']['DV']],[df[df['SECTION']=='BETA']['DV']]\n",
    "start,p,dof,expected=chi2_contingency(data)"
   ]
  },
  {
   "cell_type": "code",
   "execution_count": 89,
   "id": "af3cff6e",
   "metadata": {},
   "outputs": [
    {
     "data": {
      "text/plain": [
       "135.02226175700022"
      ]
     },
     "execution_count": 89,
     "metadata": {},
     "output_type": "execute_result"
    }
   ],
   "source": [
    "start"
   ]
  },
  {
   "cell_type": "code",
   "execution_count": 90,
   "id": "f7749945",
   "metadata": {},
   "outputs": [
    {
     "data": {
      "text/plain": [
       "0.0011991006253874233"
      ]
     },
     "execution_count": 90,
     "metadata": {},
     "output_type": "execute_result"
    }
   ],
   "source": [
    "p"
   ]
  },
  {
   "cell_type": "code",
   "execution_count": 91,
   "id": "3ecca327",
   "metadata": {},
   "outputs": [
    {
     "data": {
      "text/plain": [
       "89"
      ]
     },
     "execution_count": 91,
     "metadata": {},
     "output_type": "execute_result"
    }
   ],
   "source": [
    "dof"
   ]
  },
  {
   "cell_type": "code",
   "execution_count": 92,
   "id": "a1b034b6",
   "metadata": {},
   "outputs": [
    {
     "data": {
      "text/plain": [
       "array([[[14.72570467, 16.75683635, 14.72570467, 14.72570467,\n",
       "         15.23348759, 16.75683635, 11.67900715, 12.69457299,\n",
       "          8.12452671, 13.71013883, 13.71013883, 16.75683635,\n",
       "         13.20235591, 14.21792175, 18.28018511, 12.69457299,\n",
       "         12.18679007, 11.17122423, 12.18679007, 16.24905343,\n",
       "          6.09339504, 12.18679007, 16.75683635, 17.77240219,\n",
       "         13.20235591, 13.20235591, 15.23348759,  8.63230963,\n",
       "         14.21792175, 11.67900715, 10.66344131, 10.15565839,\n",
       "         13.71013883, 13.71013883, 16.75683635,  6.60117796,\n",
       "         11.17122423, 11.17122423, 15.23348759, 18.78796803,\n",
       "         17.26461927, 16.75683635, 18.28018511, 14.21792175,\n",
       "         17.26461927, 10.15565839, 15.23348759, 18.28018511,\n",
       "         13.20235591, 10.15565839,  6.09339504,  9.14009255,\n",
       "         16.75683635, 11.67900715, 17.26461927, 12.69457299,\n",
       "         11.17122423,  5.58561212, 13.20235591, 16.24905343,\n",
       "         17.77240219, 12.18679007, 15.23348759, 13.71013883,\n",
       "         11.17122423, 10.15565839, 13.71013883, 15.23348759,\n",
       "         15.74127051, 17.77240219,  5.58561212, 18.78796803,\n",
       "         10.15565839, 12.18679007, 16.24905343, 10.66344131,\n",
       "         16.75683635, 15.23348759, 18.28018511, 14.21792175,\n",
       "         19.80353387, 14.21792175,  4.57004628, 13.71013883,\n",
       "         11.67900715,  8.63230963, 11.67900715, 12.69457299,\n",
       "          9.14009255, 12.69457299]],\n",
       "\n",
       "       [[14.27429533, 16.24316365, 14.27429533, 14.27429533,\n",
       "         14.76651241, 16.24316365, 11.32099285, 12.30542701,\n",
       "          7.87547329, 13.28986117, 13.28986117, 16.24316365,\n",
       "         12.79764409, 13.78207825, 17.71981489, 12.30542701,\n",
       "         11.81320993, 10.82877577, 11.81320993, 15.75094657,\n",
       "          5.90660496, 11.81320993, 16.24316365, 17.22759781,\n",
       "         12.79764409, 12.79764409, 14.76651241,  8.36769037,\n",
       "         13.78207825, 11.32099285, 10.33655869,  9.84434161,\n",
       "         13.28986117, 13.28986117, 16.24316365,  6.39882204,\n",
       "         10.82877577, 10.82877577, 14.76651241, 18.21203197,\n",
       "         16.73538073, 16.24316365, 17.71981489, 13.78207825,\n",
       "         16.73538073,  9.84434161, 14.76651241, 17.71981489,\n",
       "         12.79764409,  9.84434161,  5.90660496,  8.85990745,\n",
       "         16.24316365, 11.32099285, 16.73538073, 12.30542701,\n",
       "         10.82877577,  5.41438788, 12.79764409, 15.75094657,\n",
       "         17.22759781, 11.81320993, 14.76651241, 13.28986117,\n",
       "         10.82877577,  9.84434161, 13.28986117, 14.76651241,\n",
       "         15.25872949, 17.22759781,  5.41438788, 18.21203197,\n",
       "          9.84434161, 11.81320993, 15.75094657, 10.33655869,\n",
       "         16.24316365, 14.76651241, 17.71981489, 13.78207825,\n",
       "         19.19646613, 13.78207825,  4.42995372, 13.28986117,\n",
       "         11.32099285,  8.36769037, 11.32099285, 12.30542701,\n",
       "          8.85990745, 12.30542701]]])"
      ]
     },
     "execution_count": 92,
     "metadata": {},
     "output_type": "execute_result"
    }
   ],
   "source": [
    "expected"
   ]
  },
  {
   "cell_type": "code",
   "execution_count": 93,
   "id": "cb4b0ca4",
   "metadata": {},
   "outputs": [
    {
     "name": "stderr",
     "output_type": "stream",
     "text": [
      "C:\\Users\\malle\\AppData\\Local\\Temp\\ipykernel_18360\\70619742.py:1: FutureWarning: The default value of numeric_only in DataFrame.mean is deprecated. In a future version, it will default to False. In addition, specifying 'numeric_only=None' is deprecated. Select only valid columns or specify the value of numeric_only to silence this warning.\n",
      "  df[df['SECTION']=='ALPHA'].mean()\n"
     ]
    },
    {
     "data": {
      "text/plain": [
       "S.NO          45.500000\n",
       "DV            13.411111\n",
       "M-II          13.711111\n",
       "PP            15.933333\n",
       "BEEE          15.622222\n",
       "FL            16.177778\n",
       "FIMS          12.700000\n",
       "TOTAL         87.555556\n",
       "Total         87.555556\n",
       "Percentage    14.592593\n",
       "dtype: float64"
      ]
     },
     "execution_count": 93,
     "metadata": {},
     "output_type": "execute_result"
    }
   ],
   "source": [
    "df[df['SECTION']=='ALPHA'].mean()"
   ]
  },
  {
   "cell_type": "code",
   "execution_count": 94,
   "id": "8ae3b6cb",
   "metadata": {},
   "outputs": [
    {
     "data": {
      "text/plain": [
       "13.411111111111111"
      ]
     },
     "execution_count": 94,
     "metadata": {},
     "output_type": "execute_result"
    }
   ],
   "source": [
    "df[df['SECTION']=='ALPHA'].DV.mean()"
   ]
  },
  {
   "cell_type": "code",
   "execution_count": 95,
   "id": "0bdd8046",
   "metadata": {},
   "outputs": [],
   "source": [
    "import scipy.stats as stats"
   ]
  },
  {
   "cell_type": "code",
   "execution_count": 105,
   "id": "55008119",
   "metadata": {},
   "outputs": [
    {
     "name": "stdout",
     "output_type": "stream",
     "text": [
      "-2.616154646179782 0.010446384280899498\n"
     ]
    }
   ],
   "source": [
    "t_statistic,p_value=stats.ttest_1samp(df[df['SECTION']=='ALPHA']['DV'],df.DV.mean())\n",
    "print(t_statistic,p_value)"
   ]
  },
  {
   "cell_type": "code",
   "execution_count": 97,
   "id": "211ab6d7",
   "metadata": {},
   "outputs": [
    {
     "data": {
      "text/plain": [
       "14.787709497206704"
      ]
     },
     "execution_count": 97,
     "metadata": {},
     "output_type": "execute_result"
    }
   ],
   "source": [
    "df.DV.mean()"
   ]
  },
  {
   "cell_type": "code",
   "execution_count": 106,
   "id": "e6eecd58",
   "metadata": {},
   "outputs": [
    {
     "name": "stdout",
     "output_type": "stream",
     "text": [
      "-4.444375088320685 2.5314931787997426e-05\n"
     ]
    }
   ],
   "source": [
    "t_statistic,p_value=stats.ttest_1samp(df[df['SECTION']=='BETA']['DV'],df.DV.mean())\n",
    "print(t_statistic,p_value)"
   ]
  },
  {
   "cell_type": "code",
   "execution_count": 107,
   "id": "5d122f8f",
   "metadata": {},
   "outputs": [
    {
     "name": "stdout",
     "output_type": "stream",
     "text": [
      "0.044413529739783554 0.9646742748333578\n"
     ]
    }
   ],
   "source": [
    "t_statistic,p_value=stats.ttest_1samp(df[df['SECTION']=='GAMMA']['DV'],df.DV.mean())\n",
    "print(t_statistic,p_value)"
   ]
  },
  {
   "cell_type": "code",
   "execution_count": 108,
   "id": "cc9631cc",
   "metadata": {},
   "outputs": [
    {
     "name": "stdout",
     "output_type": "stream",
     "text": [
      "-2.027862439583779 0.04556465252959875\n"
     ]
    }
   ],
   "source": [
    "t_statistic,p_value=stats.ttest_1samp(df[df['SECTION']=='DELTA']['DV'],df.DV.mean())\n",
    "print(t_statistic,p_value)"
   ]
  },
  {
   "cell_type": "code",
   "execution_count": 109,
   "id": "887a7fbd",
   "metadata": {},
   "outputs": [
    {
     "name": "stdout",
     "output_type": "stream",
     "text": [
      "2.881042866488959 0.004990510123188154\n"
     ]
    }
   ],
   "source": [
    "t_statistic,p_value=stats.ttest_1samp(df[df['SECTION']=='SIGMA']['DV'],df.DV.mean())\n",
    "print(t_statistic,p_value)"
   ]
  },
  {
   "cell_type": "code",
   "execution_count": 102,
   "id": "4754917c",
   "metadata": {},
   "outputs": [
    {
     "name": "stdout",
     "output_type": "stream",
     "text": [
      "3.9933855029421017 0.00013376637144743038\n"
     ]
    }
   ],
   "source": [
    "t_statistic,p_value=stats.ttest_1samp(df[df['SECTION']=='OMEGA']['DV'],popmean=14.41)\n",
    "print(t_statistic,p_value)"
   ]
  },
  {
   "cell_type": "code",
   "execution_count": 110,
   "id": "1b313487",
   "metadata": {},
   "outputs": [
    {
     "name": "stdout",
     "output_type": "stream",
     "text": [
      "1.145074331917612 0.25524830899967893\n"
     ]
    }
   ],
   "source": [
    "t_statistic,p_value=stats.ttest_1samp(df[df['SECTION']=='ZETA']['DV'],df.DV.mean())\n",
    "print(t_statistic,p_value)"
   ]
  },
  {
   "cell_type": "code",
   "execution_count": 111,
   "id": "7e3cecf3",
   "metadata": {},
   "outputs": [
    {
     "name": "stdout",
     "output_type": "stream",
     "text": [
      "1.218862767982525 0.22619090688375254\n"
     ]
    }
   ],
   "source": [
    "t_statistic,p_value=stats.ttest_1samp(df[df['SECTION']=='EPSILON']['DV'],df.DV.mean())\n",
    "print(t_statistic,p_value)"
   ]
  },
  {
   "cell_type": "code",
   "execution_count": 112,
   "id": "322a2994",
   "metadata": {},
   "outputs": [],
   "source": [
    "# perform one two sample test"
   ]
  },
  {
   "cell_type": "code",
   "execution_count": 117,
   "id": "f85c3d3d",
   "metadata": {},
   "outputs": [
    {
     "name": "stdout",
     "output_type": "stream",
     "text": [
      "0.6207084248259586 0.5355854399866022\n"
     ]
    }
   ],
   "source": [
    "t_statistic,p_value=ttest_ind(df[df['SECTION']=='ALPHA']['DV'],df[df['SECTION']=='BETA']['DV'])\n",
    "print(t_statistic,p_value)"
   ]
  },
  {
   "cell_type": "code",
   "execution_count": 118,
   "id": "1555b08f",
   "metadata": {},
   "outputs": [
    {
     "name": "stdout",
     "output_type": "stream",
     "text": [
      "0.6677896583545824 0.5059958752914141\n"
     ]
    }
   ],
   "source": [
    "t_statistic,p_value=ttest_rel(df[df['SECTION']=='ALPHA']['DV'],df[df['SECTION']=='BETA']['DV'])\n",
    "print(t_statistic,p_value)"
   ]
  },
  {
   "cell_type": "code",
   "execution_count": 119,
   "id": "5f68fe4f",
   "metadata": {},
   "outputs": [
    {
     "name": "stdout",
     "output_type": "stream",
     "text": [
      "-0.6553774955607539 0.5130708533507982\n"
     ]
    }
   ],
   "source": [
    "t_statistic,p_value=ttest_ind(df[df['SECTION']=='ALPHA']['DV'],df[df['SECTION']=='DELTA']['DV'])\n",
    "print(t_statistic,p_value)"
   ]
  },
  {
   "cell_type": "markdown",
   "id": "39045238",
   "metadata": {},
   "source": [
    "# Conclusion"
   ]
  },
  {
   "cell_type": "markdown",
   "id": "d2fd8852",
   "metadata": {},
   "source": [
    "continuous improvement initiatives aimed at enhancing student learning outcomes within Sections. It also serves as a foundation for creating actionable reports and improving curriculum or instructional strategies based on student needs."
   ]
  },
  {
   "cell_type": "code",
   "execution_count": null,
   "id": "a5342e33",
   "metadata": {},
   "outputs": [],
   "source": []
  },
  {
   "cell_type": "code",
   "execution_count": null,
   "id": "f339e2c8",
   "metadata": {},
   "outputs": [],
   "source": []
  }
 ],
 "metadata": {
  "kernelspec": {
   "display_name": "Python 3 (ipykernel)",
   "language": "python",
   "name": "python3"
  },
  "language_info": {
   "codemirror_mode": {
    "name": "ipython",
    "version": 3
   },
   "file_extension": ".py",
   "mimetype": "text/x-python",
   "name": "python",
   "nbconvert_exporter": "python",
   "pygments_lexer": "ipython3",
   "version": "3.10.9"
  }
 },
 "nbformat": 4,
 "nbformat_minor": 5
}
